{
 "cells": [
  {
   "cell_type": "code",
   "execution_count": 191,
   "metadata": {},
   "outputs": [],
   "source": [
    "import pandas as pd\n",
    "import numpy as np\n",
    "import matplotlib.pyplot as plt\n",
    "import seaborn as sns"
   ]
  },
  {
   "cell_type": "code",
   "execution_count": 192,
   "metadata": {},
   "outputs": [],
   "source": [
    "import statsmodels.formula.api as smf\n",
    "import statsmodels.stats.multicomp as multi\n",
    "import scipy\n",
    "from scipy.stats import pearsonr\n",
    "import pandas as pd\n",
    "from seaborn import regplot\n",
    "import matplotlib.pyplot as plt\n",
    "import numpy as np\n",
    "import seaborn as sns"
   ]
  },
  {
   "cell_type": "code",
   "execution_count": 238,
   "metadata": {},
   "outputs": [
    {
     "data": {
      "text/html": [
       "<div>\n",
       "<style scoped>\n",
       "    .dataframe tbody tr th:only-of-type {\n",
       "        vertical-align: middle;\n",
       "    }\n",
       "\n",
       "    .dataframe tbody tr th {\n",
       "        vertical-align: top;\n",
       "    }\n",
       "\n",
       "    .dataframe thead th {\n",
       "        text-align: right;\n",
       "    }\n",
       "</style>\n",
       "<table border=\"1\" class=\"dataframe\">\n",
       "  <thead>\n",
       "    <tr style=\"text-align: right;\">\n",
       "      <th></th>\n",
       "      <th>Store</th>\n",
       "      <th>Dept</th>\n",
       "      <th>Date</th>\n",
       "      <th>Total_Sales</th>\n",
       "      <th>IsHoliday</th>\n",
       "    </tr>\n",
       "  </thead>\n",
       "  <tbody>\n",
       "    <tr>\n",
       "      <th>0</th>\n",
       "      <td>1</td>\n",
       "      <td>1</td>\n",
       "      <td>2017-02-05</td>\n",
       "      <td>24924.50</td>\n",
       "      <td>False</td>\n",
       "    </tr>\n",
       "    <tr>\n",
       "      <th>1</th>\n",
       "      <td>1</td>\n",
       "      <td>1</td>\n",
       "      <td>2017-02-12</td>\n",
       "      <td>46039.49</td>\n",
       "      <td>True</td>\n",
       "    </tr>\n",
       "    <tr>\n",
       "      <th>2</th>\n",
       "      <td>1</td>\n",
       "      <td>1</td>\n",
       "      <td>2017-02-19</td>\n",
       "      <td>41595.55</td>\n",
       "      <td>False</td>\n",
       "    </tr>\n",
       "    <tr>\n",
       "      <th>3</th>\n",
       "      <td>1</td>\n",
       "      <td>1</td>\n",
       "      <td>2017-02-26</td>\n",
       "      <td>19403.54</td>\n",
       "      <td>False</td>\n",
       "    </tr>\n",
       "    <tr>\n",
       "      <th>4</th>\n",
       "      <td>1</td>\n",
       "      <td>1</td>\n",
       "      <td>2017-03-05</td>\n",
       "      <td>21827.90</td>\n",
       "      <td>False</td>\n",
       "    </tr>\n",
       "  </tbody>\n",
       "</table>\n",
       "</div>"
      ],
      "text/plain": [
       "   Store  Dept       Date  Total_Sales  IsHoliday\n",
       "0      1     1 2017-02-05     24924.50      False\n",
       "1      1     1 2017-02-12     46039.49       True\n",
       "2      1     1 2017-02-19     41595.55      False\n",
       "3      1     1 2017-02-26     19403.54      False\n",
       "4      1     1 2017-03-05     21827.90      False"
      ]
     },
     "execution_count": 238,
     "metadata": {},
     "output_type": "execute_result"
    }
   ],
   "source": [
    "df = pd.read_excel('Sales_History.xlsx')\n",
    "df.head()"
   ]
  },
  {
   "cell_type": "code",
   "execution_count": 239,
   "metadata": {},
   "outputs": [],
   "source": [
    "# applying groupby() function to\n",
    "# group the data on store value.\n",
    "#df.groupby(by=\"Store\", dropna=False).sum()\n",
    "#df_sales = df.groupby(['Store']).sum()\n",
    "#df.groupby(['Store', 'Dept']).sum()\n",
    "#df_sales = df.groupby(by=\"Store\", dropna=False).sum()\n",
    "df_sales = df.groupby(['Store', 'Date']).sum()"
   ]
  },
  {
   "cell_type": "code",
   "execution_count": 240,
   "metadata": {},
   "outputs": [
    {
     "data": {
      "text/html": [
       "<div>\n",
       "<style scoped>\n",
       "    .dataframe tbody tr th:only-of-type {\n",
       "        vertical-align: middle;\n",
       "    }\n",
       "\n",
       "    .dataframe tbody tr th {\n",
       "        vertical-align: top;\n",
       "    }\n",
       "\n",
       "    .dataframe thead th {\n",
       "        text-align: right;\n",
       "    }\n",
       "</style>\n",
       "<table border=\"1\" class=\"dataframe\">\n",
       "  <thead>\n",
       "    <tr style=\"text-align: right;\">\n",
       "      <th></th>\n",
       "      <th></th>\n",
       "      <th>Dept</th>\n",
       "      <th>Total_Sales</th>\n",
       "      <th>IsHoliday</th>\n",
       "    </tr>\n",
       "    <tr>\n",
       "      <th>Store</th>\n",
       "      <th>Date</th>\n",
       "      <th></th>\n",
       "      <th></th>\n",
       "      <th></th>\n",
       "    </tr>\n",
       "  </thead>\n",
       "  <tbody>\n",
       "    <tr>\n",
       "      <th rowspan=\"5\" valign=\"top\">1</th>\n",
       "      <th>2017-02-05</th>\n",
       "      <td>3184</td>\n",
       "      <td>1643690.90</td>\n",
       "      <td>0</td>\n",
       "    </tr>\n",
       "    <tr>\n",
       "      <th>2017-02-12</th>\n",
       "      <td>3137</td>\n",
       "      <td>1641957.44</td>\n",
       "      <td>72</td>\n",
       "    </tr>\n",
       "    <tr>\n",
       "      <th>2017-02-19</th>\n",
       "      <td>3184</td>\n",
       "      <td>1611968.17</td>\n",
       "      <td>0</td>\n",
       "    </tr>\n",
       "    <tr>\n",
       "      <th>2017-02-26</th>\n",
       "      <td>3137</td>\n",
       "      <td>1409727.59</td>\n",
       "      <td>0</td>\n",
       "    </tr>\n",
       "    <tr>\n",
       "      <th>2017-03-05</th>\n",
       "      <td>3215</td>\n",
       "      <td>1554806.68</td>\n",
       "      <td>0</td>\n",
       "    </tr>\n",
       "    <tr>\n",
       "      <th>...</th>\n",
       "      <th>...</th>\n",
       "      <td>...</td>\n",
       "      <td>...</td>\n",
       "      <td>...</td>\n",
       "    </tr>\n",
       "    <tr>\n",
       "      <th rowspan=\"5\" valign=\"top\">45</th>\n",
       "      <th>2019-09-29</th>\n",
       "      <td>2853</td>\n",
       "      <td>713173.95</td>\n",
       "      <td>0</td>\n",
       "    </tr>\n",
       "    <tr>\n",
       "      <th>2019-10-06</th>\n",
       "      <td>2952</td>\n",
       "      <td>733455.07</td>\n",
       "      <td>0</td>\n",
       "    </tr>\n",
       "    <tr>\n",
       "      <th>2019-10-13</th>\n",
       "      <td>2853</td>\n",
       "      <td>734464.36</td>\n",
       "      <td>0</td>\n",
       "    </tr>\n",
       "    <tr>\n",
       "      <th>2019-10-20</th>\n",
       "      <td>2853</td>\n",
       "      <td>718125.53</td>\n",
       "      <td>0</td>\n",
       "    </tr>\n",
       "    <tr>\n",
       "      <th>2019-10-27</th>\n",
       "      <td>2907</td>\n",
       "      <td>760281.43</td>\n",
       "      <td>0</td>\n",
       "    </tr>\n",
       "  </tbody>\n",
       "</table>\n",
       "<p>6435 rows × 3 columns</p>\n",
       "</div>"
      ],
      "text/plain": [
       "                  Dept  Total_Sales  IsHoliday\n",
       "Store Date                                    \n",
       "1     2017-02-05  3184   1643690.90          0\n",
       "      2017-02-12  3137   1641957.44         72\n",
       "      2017-02-19  3184   1611968.17          0\n",
       "      2017-02-26  3137   1409727.59          0\n",
       "      2017-03-05  3215   1554806.68          0\n",
       "...                ...          ...        ...\n",
       "45    2019-09-29  2853    713173.95          0\n",
       "      2019-10-06  2952    733455.07          0\n",
       "      2019-10-13  2853    734464.36          0\n",
       "      2019-10-20  2853    718125.53          0\n",
       "      2019-10-27  2907    760281.43          0\n",
       "\n",
       "[6435 rows x 3 columns]"
      ]
     },
     "execution_count": 240,
     "metadata": {},
     "output_type": "execute_result"
    }
   ],
   "source": [
    "df_sales"
   ]
  },
  {
   "cell_type": "code",
   "execution_count": 179,
   "metadata": {},
   "outputs": [],
   "source": [
    "#df.groupby(by=\"Store\", dropna=False)\n",
    "df_sales = df.groupby(by=\"Store\", dropna=False).sum()\n",
    "#df_sales = df.groupby(by=\"Store\")"
   ]
  },
  {
   "cell_type": "code",
   "execution_count": 118,
   "metadata": {},
   "outputs": [
    {
     "data": {
      "text/html": [
       "<div>\n",
       "<style scoped>\n",
       "    .dataframe tbody tr th:only-of-type {\n",
       "        vertical-align: middle;\n",
       "    }\n",
       "\n",
       "    .dataframe tbody tr th {\n",
       "        vertical-align: top;\n",
       "    }\n",
       "\n",
       "    .dataframe thead th {\n",
       "        text-align: right;\n",
       "    }\n",
       "</style>\n",
       "<table border=\"1\" class=\"dataframe\">\n",
       "  <thead>\n",
       "    <tr style=\"text-align: right;\">\n",
       "      <th></th>\n",
       "      <th>Dept</th>\n",
       "      <th>Total_Sales</th>\n",
       "      <th>IsHoliday</th>\n",
       "    </tr>\n",
       "    <tr>\n",
       "      <th>Store</th>\n",
       "      <th></th>\n",
       "      <th></th>\n",
       "      <th></th>\n",
       "    </tr>\n",
       "  </thead>\n",
       "  <tbody>\n",
       "    <tr>\n",
       "      <th>1</th>\n",
       "      <td>454749</td>\n",
       "      <td>2.224028e+08</td>\n",
       "      <td>723</td>\n",
       "    </tr>\n",
       "    <tr>\n",
       "      <th>2</th>\n",
       "      <td>455425</td>\n",
       "      <td>2.753824e+08</td>\n",
       "      <td>722</td>\n",
       "    </tr>\n",
       "    <tr>\n",
       "      <th>3</th>\n",
       "      <td>370825</td>\n",
       "      <td>5.758674e+07</td>\n",
       "      <td>633</td>\n",
       "    </tr>\n",
       "    <tr>\n",
       "      <th>4</th>\n",
       "      <td>457340</td>\n",
       "      <td>2.995440e+08</td>\n",
       "      <td>727</td>\n",
       "    </tr>\n",
       "    <tr>\n",
       "      <th>5</th>\n",
       "      <td>371526</td>\n",
       "      <td>4.547569e+07</td>\n",
       "      <td>640</td>\n",
       "    </tr>\n",
       "    <tr>\n",
       "      <th>6</th>\n",
       "      <td>453812</td>\n",
       "      <td>2.237561e+08</td>\n",
       "      <td>721</td>\n",
       "    </tr>\n",
       "    <tr>\n",
       "      <th>7</th>\n",
       "      <td>432878</td>\n",
       "      <td>8.159828e+07</td>\n",
       "      <td>691</td>\n",
       "    </tr>\n",
       "    <tr>\n",
       "      <th>8</th>\n",
       "      <td>432217</td>\n",
       "      <td>1.299512e+08</td>\n",
       "      <td>696</td>\n",
       "    </tr>\n",
       "    <tr>\n",
       "      <th>9</th>\n",
       "      <td>355292</td>\n",
       "      <td>7.778922e+07</td>\n",
       "      <td>625</td>\n",
       "    </tr>\n",
       "    <tr>\n",
       "      <th>10</th>\n",
       "      <td>454210</td>\n",
       "      <td>2.716177e+08</td>\n",
       "      <td>724</td>\n",
       "    </tr>\n",
       "    <tr>\n",
       "      <th>11</th>\n",
       "      <td>448403</td>\n",
       "      <td>1.939628e+08</td>\n",
       "      <td>707</td>\n",
       "    </tr>\n",
       "    <tr>\n",
       "      <th>12</th>\n",
       "      <td>421799</td>\n",
       "      <td>1.442872e+08</td>\n",
       "      <td>683</td>\n",
       "    </tr>\n",
       "    <tr>\n",
       "      <th>13</th>\n",
       "      <td>467392</td>\n",
       "      <td>2.865177e+08</td>\n",
       "      <td>739</td>\n",
       "    </tr>\n",
       "    <tr>\n",
       "      <th>14</th>\n",
       "      <td>442053</td>\n",
       "      <td>2.889999e+08</td>\n",
       "      <td>703</td>\n",
       "    </tr>\n",
       "    <tr>\n",
       "      <th>15</th>\n",
       "      <td>435886</td>\n",
       "      <td>8.913368e+07</td>\n",
       "      <td>701</td>\n",
       "    </tr>\n",
       "    <tr>\n",
       "      <th>16</th>\n",
       "      <td>402800</td>\n",
       "      <td>7.425243e+07</td>\n",
       "      <td>673</td>\n",
       "    </tr>\n",
       "    <tr>\n",
       "      <th>17</th>\n",
       "      <td>429973</td>\n",
       "      <td>1.277821e+08</td>\n",
       "      <td>691</td>\n",
       "    </tr>\n",
       "    <tr>\n",
       "      <th>18</th>\n",
       "      <td>428796</td>\n",
       "      <td>1.551147e+08</td>\n",
       "      <td>690</td>\n",
       "    </tr>\n",
       "    <tr>\n",
       "      <th>19</th>\n",
       "      <td>455864</td>\n",
       "      <td>2.066349e+08</td>\n",
       "      <td>715</td>\n",
       "    </tr>\n",
       "    <tr>\n",
       "      <th>20</th>\n",
       "      <td>450413</td>\n",
       "      <td>3.013978e+08</td>\n",
       "      <td>723</td>\n",
       "    </tr>\n",
       "    <tr>\n",
       "      <th>21</th>\n",
       "      <td>412056</td>\n",
       "      <td>1.081179e+08</td>\n",
       "      <td>670</td>\n",
       "    </tr>\n",
       "    <tr>\n",
       "      <th>22</th>\n",
       "      <td>422781</td>\n",
       "      <td>1.470756e+08</td>\n",
       "      <td>680</td>\n",
       "    </tr>\n",
       "    <tr>\n",
       "      <th>23</th>\n",
       "      <td>441720</td>\n",
       "      <td>1.987506e+08</td>\n",
       "      <td>704</td>\n",
       "    </tr>\n",
       "    <tr>\n",
       "      <th>24</th>\n",
       "      <td>454757</td>\n",
       "      <td>1.940160e+08</td>\n",
       "      <td>721</td>\n",
       "    </tr>\n",
       "    <tr>\n",
       "      <th>25</th>\n",
       "      <td>427162</td>\n",
       "      <td>1.010612e+08</td>\n",
       "      <td>691</td>\n",
       "    </tr>\n",
       "    <tr>\n",
       "      <th>26</th>\n",
       "      <td>436312</td>\n",
       "      <td>1.434164e+08</td>\n",
       "      <td>697</td>\n",
       "    </tr>\n",
       "    <tr>\n",
       "      <th>27</th>\n",
       "      <td>454685</td>\n",
       "      <td>2.538559e+08</td>\n",
       "      <td>719</td>\n",
       "    </tr>\n",
       "    <tr>\n",
       "      <th>28</th>\n",
       "      <td>449672</td>\n",
       "      <td>1.892637e+08</td>\n",
       "      <td>716</td>\n",
       "    </tr>\n",
       "    <tr>\n",
       "      <th>29</th>\n",
       "      <td>408288</td>\n",
       "      <td>7.714155e+07</td>\n",
       "      <td>668</td>\n",
       "    </tr>\n",
       "    <tr>\n",
       "      <th>30</th>\n",
       "      <td>336756</td>\n",
       "      <td>6.271689e+07</td>\n",
       "      <td>498</td>\n",
       "    </tr>\n",
       "    <tr>\n",
       "      <th>31</th>\n",
       "      <td>451837</td>\n",
       "      <td>1.996139e+08</td>\n",
       "      <td>716</td>\n",
       "    </tr>\n",
       "    <tr>\n",
       "      <th>32</th>\n",
       "      <td>453991</td>\n",
       "      <td>1.668192e+08</td>\n",
       "      <td>717</td>\n",
       "    </tr>\n",
       "    <tr>\n",
       "      <th>33</th>\n",
       "      <td>302780</td>\n",
       "      <td>3.716022e+07</td>\n",
       "      <td>453</td>\n",
       "    </tr>\n",
       "    <tr>\n",
       "      <th>34</th>\n",
       "      <td>457482</td>\n",
       "      <td>1.382498e+08</td>\n",
       "      <td>715</td>\n",
       "    </tr>\n",
       "    <tr>\n",
       "      <th>35</th>\n",
       "      <td>414510</td>\n",
       "      <td>1.315207e+08</td>\n",
       "      <td>668</td>\n",
       "    </tr>\n",
       "    <tr>\n",
       "      <th>36</th>\n",
       "      <td>293473</td>\n",
       "      <td>5.341221e+07</td>\n",
       "      <td>437</td>\n",
       "    </tr>\n",
       "    <tr>\n",
       "      <th>37</th>\n",
       "      <td>337910</td>\n",
       "      <td>7.420274e+07</td>\n",
       "      <td>499</td>\n",
       "    </tr>\n",
       "    <tr>\n",
       "      <th>38</th>\n",
       "      <td>340471</td>\n",
       "      <td>5.515963e+07</td>\n",
       "      <td>510</td>\n",
       "    </tr>\n",
       "    <tr>\n",
       "      <th>39</th>\n",
       "      <td>441843</td>\n",
       "      <td>2.074455e+08</td>\n",
       "      <td>697</td>\n",
       "    </tr>\n",
       "    <tr>\n",
       "      <th>40</th>\n",
       "      <td>448364</td>\n",
       "      <td>1.378703e+08</td>\n",
       "      <td>710</td>\n",
       "    </tr>\n",
       "    <tr>\n",
       "      <th>41</th>\n",
       "      <td>452229</td>\n",
       "      <td>1.813419e+08</td>\n",
       "      <td>711</td>\n",
       "    </tr>\n",
       "    <tr>\n",
       "      <th>42</th>\n",
       "      <td>326920</td>\n",
       "      <td>7.956575e+07</td>\n",
       "      <td>486</td>\n",
       "    </tr>\n",
       "    <tr>\n",
       "      <th>43</th>\n",
       "      <td>317950</td>\n",
       "      <td>9.056544e+07</td>\n",
       "      <td>472</td>\n",
       "    </tr>\n",
       "    <tr>\n",
       "      <th>44</th>\n",
       "      <td>335081</td>\n",
       "      <td>4.329309e+07</td>\n",
       "      <td>499</td>\n",
       "    </tr>\n",
       "    <tr>\n",
       "      <th>45</th>\n",
       "      <td>418139</td>\n",
       "      <td>1.123953e+08</td>\n",
       "      <td>680</td>\n",
       "    </tr>\n",
       "  </tbody>\n",
       "</table>\n",
       "</div>"
      ],
      "text/plain": [
       "         Dept   Total_Sales  IsHoliday\n",
       "Store                                 \n",
       "1      454749  2.224028e+08        723\n",
       "2      455425  2.753824e+08        722\n",
       "3      370825  5.758674e+07        633\n",
       "4      457340  2.995440e+08        727\n",
       "5      371526  4.547569e+07        640\n",
       "6      453812  2.237561e+08        721\n",
       "7      432878  8.159828e+07        691\n",
       "8      432217  1.299512e+08        696\n",
       "9      355292  7.778922e+07        625\n",
       "10     454210  2.716177e+08        724\n",
       "11     448403  1.939628e+08        707\n",
       "12     421799  1.442872e+08        683\n",
       "13     467392  2.865177e+08        739\n",
       "14     442053  2.889999e+08        703\n",
       "15     435886  8.913368e+07        701\n",
       "16     402800  7.425243e+07        673\n",
       "17     429973  1.277821e+08        691\n",
       "18     428796  1.551147e+08        690\n",
       "19     455864  2.066349e+08        715\n",
       "20     450413  3.013978e+08        723\n",
       "21     412056  1.081179e+08        670\n",
       "22     422781  1.470756e+08        680\n",
       "23     441720  1.987506e+08        704\n",
       "24     454757  1.940160e+08        721\n",
       "25     427162  1.010612e+08        691\n",
       "26     436312  1.434164e+08        697\n",
       "27     454685  2.538559e+08        719\n",
       "28     449672  1.892637e+08        716\n",
       "29     408288  7.714155e+07        668\n",
       "30     336756  6.271689e+07        498\n",
       "31     451837  1.996139e+08        716\n",
       "32     453991  1.668192e+08        717\n",
       "33     302780  3.716022e+07        453\n",
       "34     457482  1.382498e+08        715\n",
       "35     414510  1.315207e+08        668\n",
       "36     293473  5.341221e+07        437\n",
       "37     337910  7.420274e+07        499\n",
       "38     340471  5.515963e+07        510\n",
       "39     441843  2.074455e+08        697\n",
       "40     448364  1.378703e+08        710\n",
       "41     452229  1.813419e+08        711\n",
       "42     326920  7.956575e+07        486\n",
       "43     317950  9.056544e+07        472\n",
       "44     335081  4.329309e+07        499\n",
       "45     418139  1.123953e+08        680"
      ]
     },
     "execution_count": 118,
     "metadata": {},
     "output_type": "execute_result"
    }
   ],
   "source": [
    "df_sales"
   ]
  },
  {
   "cell_type": "code",
   "execution_count": 241,
   "metadata": {},
   "outputs": [
    {
     "name": "stdout",
     "output_type": "stream",
     "text": [
      "Dept           0\n",
      "Total_Sales    0\n",
      "IsHoliday      0\n",
      "dtype: int64\n"
     ]
    }
   ],
   "source": [
    "print(df_sales.isnull().sum())"
   ]
  },
  {
   "cell_type": "code",
   "execution_count": 242,
   "metadata": {},
   "outputs": [
    {
     "data": {
      "text/html": [
       "<div>\n",
       "<style scoped>\n",
       "    .dataframe tbody tr th:only-of-type {\n",
       "        vertical-align: middle;\n",
       "    }\n",
       "\n",
       "    .dataframe tbody tr th {\n",
       "        vertical-align: top;\n",
       "    }\n",
       "\n",
       "    .dataframe thead th {\n",
       "        text-align: right;\n",
       "    }\n",
       "</style>\n",
       "<table border=\"1\" class=\"dataframe\">\n",
       "  <thead>\n",
       "    <tr style=\"text-align: right;\">\n",
       "      <th></th>\n",
       "      <th>Store</th>\n",
       "      <th>Type</th>\n",
       "      <th>Address</th>\n",
       "      <th>Area_Code</th>\n",
       "      <th>Location</th>\n",
       "      <th>Size</th>\n",
       "    </tr>\n",
       "  </thead>\n",
       "  <tbody>\n",
       "    <tr>\n",
       "      <th>0</th>\n",
       "      <td>1</td>\n",
       "      <td>E-Commerce Fulfillment</td>\n",
       "      <td>1893 W Malvern Ave, Fullerton, California</td>\n",
       "      <td>92835</td>\n",
       "      <td>Applegate Ranch Shopping Cente</td>\n",
       "      <td>151315</td>\n",
       "    </tr>\n",
       "    <tr>\n",
       "      <th>1</th>\n",
       "      <td>2</td>\n",
       "      <td>E-Commerce Fulfillment</td>\n",
       "      <td>1000 Commerce Ave, Atwater, California</td>\n",
       "      <td>95301</td>\n",
       "      <td>Bayfair Cente</td>\n",
       "      <td>202307</td>\n",
       "    </tr>\n",
       "    <tr>\n",
       "      <th>2</th>\n",
       "      <td>3</td>\n",
       "      <td>Food</td>\n",
       "      <td>15555 East 14th Street, San Leandro, California</td>\n",
       "      <td>94578</td>\n",
       "      <td>Capitola Mal</td>\n",
       "      <td>37392</td>\n",
       "    </tr>\n",
       "    <tr>\n",
       "      <th>3</th>\n",
       "      <td>4</td>\n",
       "      <td>E-Commerce Fulfillment</td>\n",
       "      <td>1855 41st Avenue, Capitola, California</td>\n",
       "      <td>95010</td>\n",
       "      <td>Chino Spectrum Marketplace &amp; Towne Cente</td>\n",
       "      <td>205863</td>\n",
       "    </tr>\n",
       "    <tr>\n",
       "      <th>4</th>\n",
       "      <td>5</td>\n",
       "      <td>Food</td>\n",
       "      <td>3800-4046 Grand Ave.&amp; 3801-4097 Grand Ave., Ch...</td>\n",
       "      <td>91710</td>\n",
       "      <td>Eagle Rock Plaz</td>\n",
       "      <td>34875</td>\n",
       "    </tr>\n",
       "  </tbody>\n",
       "</table>\n",
       "</div>"
      ],
      "text/plain": [
       "   Store                    Type  \\\n",
       "0      1  E-Commerce Fulfillment   \n",
       "1      2  E-Commerce Fulfillment   \n",
       "2      3                    Food   \n",
       "3      4  E-Commerce Fulfillment   \n",
       "4      5                    Food   \n",
       "\n",
       "                                             Address  Area_Code  \\\n",
       "0          1893 W Malvern Ave, Fullerton, California      92835   \n",
       "1             1000 Commerce Ave, Atwater, California      95301   \n",
       "2    15555 East 14th Street, San Leandro, California      94578   \n",
       "3             1855 41st Avenue, Capitola, California      95010   \n",
       "4  3800-4046 Grand Ave.& 3801-4097 Grand Ave., Ch...      91710   \n",
       "\n",
       "                                   Location    Size  \n",
       "0            Applegate Ranch Shopping Cente  151315  \n",
       "1                             Bayfair Cente  202307  \n",
       "2                              Capitola Mal   37392  \n",
       "3  Chino Spectrum Marketplace & Towne Cente  205863  \n",
       "4                           Eagle Rock Plaz   34875  "
      ]
     },
     "execution_count": 242,
     "metadata": {},
     "output_type": "execute_result"
    }
   ],
   "source": [
    "df1 = pd.read_excel('Store_Details.xlsx')\n",
    "df1.head()"
   ]
  },
  {
   "cell_type": "code",
   "execution_count": 243,
   "metadata": {},
   "outputs": [
    {
     "name": "stdout",
     "output_type": "stream",
     "text": [
      "Store        0\n",
      "Type         0\n",
      "Address      0\n",
      "Area_Code    0\n",
      "Location     0\n",
      "Size         0\n",
      "dtype: int64\n"
     ]
    }
   ],
   "source": [
    "print(df1.isnull().sum())"
   ]
  },
  {
   "cell_type": "code",
   "execution_count": 244,
   "metadata": {},
   "outputs": [
    {
     "data": {
      "text/html": [
       "<div>\n",
       "<style scoped>\n",
       "    .dataframe tbody tr th:only-of-type {\n",
       "        vertical-align: middle;\n",
       "    }\n",
       "\n",
       "    .dataframe tbody tr th {\n",
       "        vertical-align: top;\n",
       "    }\n",
       "\n",
       "    .dataframe thead th {\n",
       "        text-align: right;\n",
       "    }\n",
       "</style>\n",
       "<table border=\"1\" class=\"dataframe\">\n",
       "  <thead>\n",
       "    <tr style=\"text-align: right;\">\n",
       "      <th></th>\n",
       "      <th>Store</th>\n",
       "      <th>Date</th>\n",
       "      <th>Temperature</th>\n",
       "      <th>Fuel_Price</th>\n",
       "      <th>MarkDown1</th>\n",
       "      <th>MarkDown2</th>\n",
       "      <th>MarkDown3</th>\n",
       "      <th>MarkDown4</th>\n",
       "      <th>MarkDown5</th>\n",
       "      <th>CPI</th>\n",
       "      <th>Unemployment_Rate</th>\n",
       "      <th>Holiday</th>\n",
       "    </tr>\n",
       "  </thead>\n",
       "  <tbody>\n",
       "    <tr>\n",
       "      <th>0</th>\n",
       "      <td>1</td>\n",
       "      <td>2017-02-05</td>\n",
       "      <td>42.31</td>\n",
       "      <td>2.572</td>\n",
       "      <td>NaN</td>\n",
       "      <td>NaN</td>\n",
       "      <td>NaN</td>\n",
       "      <td>NaN</td>\n",
       "      <td>NaN</td>\n",
       "      <td>211.096358</td>\n",
       "      <td>8.106</td>\n",
       "      <td>False</td>\n",
       "    </tr>\n",
       "    <tr>\n",
       "      <th>1</th>\n",
       "      <td>1</td>\n",
       "      <td>2017-02-12</td>\n",
       "      <td>38.51</td>\n",
       "      <td>2.548</td>\n",
       "      <td>NaN</td>\n",
       "      <td>NaN</td>\n",
       "      <td>NaN</td>\n",
       "      <td>NaN</td>\n",
       "      <td>NaN</td>\n",
       "      <td>211.242170</td>\n",
       "      <td>8.106</td>\n",
       "      <td>True</td>\n",
       "    </tr>\n",
       "    <tr>\n",
       "      <th>2</th>\n",
       "      <td>1</td>\n",
       "      <td>2017-02-19</td>\n",
       "      <td>39.93</td>\n",
       "      <td>2.514</td>\n",
       "      <td>NaN</td>\n",
       "      <td>NaN</td>\n",
       "      <td>NaN</td>\n",
       "      <td>NaN</td>\n",
       "      <td>NaN</td>\n",
       "      <td>211.289143</td>\n",
       "      <td>8.106</td>\n",
       "      <td>False</td>\n",
       "    </tr>\n",
       "    <tr>\n",
       "      <th>3</th>\n",
       "      <td>1</td>\n",
       "      <td>2017-02-26</td>\n",
       "      <td>46.63</td>\n",
       "      <td>2.561</td>\n",
       "      <td>NaN</td>\n",
       "      <td>NaN</td>\n",
       "      <td>NaN</td>\n",
       "      <td>NaN</td>\n",
       "      <td>NaN</td>\n",
       "      <td>211.319643</td>\n",
       "      <td>8.106</td>\n",
       "      <td>False</td>\n",
       "    </tr>\n",
       "    <tr>\n",
       "      <th>4</th>\n",
       "      <td>1</td>\n",
       "      <td>2017-03-05</td>\n",
       "      <td>46.50</td>\n",
       "      <td>2.625</td>\n",
       "      <td>NaN</td>\n",
       "      <td>NaN</td>\n",
       "      <td>NaN</td>\n",
       "      <td>NaN</td>\n",
       "      <td>NaN</td>\n",
       "      <td>211.350143</td>\n",
       "      <td>8.106</td>\n",
       "      <td>False</td>\n",
       "    </tr>\n",
       "  </tbody>\n",
       "</table>\n",
       "</div>"
      ],
      "text/plain": [
       "   Store       Date  Temperature  Fuel_Price  MarkDown1  MarkDown2  MarkDown3  \\\n",
       "0      1 2017-02-05        42.31       2.572        NaN        NaN        NaN   \n",
       "1      1 2017-02-12        38.51       2.548        NaN        NaN        NaN   \n",
       "2      1 2017-02-19        39.93       2.514        NaN        NaN        NaN   \n",
       "3      1 2017-02-26        46.63       2.561        NaN        NaN        NaN   \n",
       "4      1 2017-03-05        46.50       2.625        NaN        NaN        NaN   \n",
       "\n",
       "   MarkDown4  MarkDown5         CPI  Unemployment_Rate  Holiday  \n",
       "0        NaN        NaN  211.096358              8.106    False  \n",
       "1        NaN        NaN  211.242170              8.106     True  \n",
       "2        NaN        NaN  211.289143              8.106    False  \n",
       "3        NaN        NaN  211.319643              8.106    False  \n",
       "4        NaN        NaN  211.350143              8.106    False  "
      ]
     },
     "execution_count": 244,
     "metadata": {},
     "output_type": "execute_result"
    }
   ],
   "source": [
    "df2 = pd.read_excel('Business_Data.xlsx')\n",
    "df2.head()"
   ]
  },
  {
   "cell_type": "code",
   "execution_count": 245,
   "metadata": {},
   "outputs": [
    {
     "name": "stdout",
     "output_type": "stream",
     "text": [
      "Store                   0\n",
      "Date                    0\n",
      "Temperature             0\n",
      "Fuel_Price              0\n",
      "MarkDown1            4158\n",
      "MarkDown2            5269\n",
      "MarkDown3            4577\n",
      "MarkDown4            4726\n",
      "MarkDown5            4140\n",
      "CPI                   585\n",
      "Unemployment_Rate     585\n",
      "Holiday                 0\n",
      "dtype: int64\n"
     ]
    }
   ],
   "source": [
    "print(df2.isnull().sum())"
   ]
  },
  {
   "cell_type": "code",
   "execution_count": 246,
   "metadata": {},
   "outputs": [],
   "source": [
    "#df_sales1 = pd.merge(df_sales, df2, on=['Store'])\n",
    "#pd.merge(df_sales, df2, on=['Store'])\n",
    "df_sales1 = df2.merge(df_sales, how='outer', on=['Store', 'Date'])"
   ]
  },
  {
   "cell_type": "code",
   "execution_count": 247,
   "metadata": {},
   "outputs": [],
   "source": [
    "#df_sales1 = pd.merge(df2, df_sales, on=['Store', 'Date'])"
   ]
  },
  {
   "cell_type": "code",
   "execution_count": null,
   "metadata": {},
   "outputs": [],
   "source": []
  },
  {
   "cell_type": "code",
   "execution_count": null,
   "metadata": {},
   "outputs": [],
   "source": []
  },
  {
   "cell_type": "code",
   "execution_count": 248,
   "metadata": {},
   "outputs": [
    {
     "name": "stdout",
     "output_type": "stream",
     "text": [
      "Store                   0\n",
      "Date                    0\n",
      "Temperature             0\n",
      "Fuel_Price              0\n",
      "MarkDown1            4158\n",
      "MarkDown2            5269\n",
      "MarkDown3            4577\n",
      "MarkDown4            4726\n",
      "MarkDown5            4140\n",
      "CPI                   585\n",
      "Unemployment_Rate     585\n",
      "Holiday                 0\n",
      "Dept                 1755\n",
      "Total_Sales          1755\n",
      "IsHoliday            1755\n",
      "dtype: int64\n"
     ]
    }
   ],
   "source": [
    "print(df_sales1.isnull().sum())"
   ]
  },
  {
   "cell_type": "code",
   "execution_count": 249,
   "metadata": {},
   "outputs": [],
   "source": [
    "#df_sales1 = pd.merge(df,df2, on='Date')\n",
    "#df_sales.sample(5).style.background_gradient(cmap='cool')aaa"
   ]
  },
  {
   "cell_type": "code",
   "execution_count": 250,
   "metadata": {},
   "outputs": [
    {
     "name": "stderr",
     "output_type": "stream",
     "text": [
      "<ipython-input-250-566b442b8fd9>:3: FutureWarning: Series.dt.weekofyear and Series.dt.week have been deprecated.  Please use Series.dt.isocalendar().week instead.\n",
      "  df_sales1['week'] = pd.to_datetime(df_sales1['Date']).dt.week\n"
     ]
    },
    {
     "data": {
      "text/html": [
       "<div>\n",
       "<style scoped>\n",
       "    .dataframe tbody tr th:only-of-type {\n",
       "        vertical-align: middle;\n",
       "    }\n",
       "\n",
       "    .dataframe tbody tr th {\n",
       "        vertical-align: top;\n",
       "    }\n",
       "\n",
       "    .dataframe thead th {\n",
       "        text-align: right;\n",
       "    }\n",
       "</style>\n",
       "<table border=\"1\" class=\"dataframe\">\n",
       "  <thead>\n",
       "    <tr style=\"text-align: right;\">\n",
       "      <th></th>\n",
       "      <th>Store</th>\n",
       "      <th>Date</th>\n",
       "      <th>Temperature</th>\n",
       "      <th>Fuel_Price</th>\n",
       "      <th>MarkDown1</th>\n",
       "      <th>MarkDown2</th>\n",
       "      <th>MarkDown3</th>\n",
       "      <th>MarkDown4</th>\n",
       "      <th>MarkDown5</th>\n",
       "      <th>CPI</th>\n",
       "      <th>Unemployment_Rate</th>\n",
       "      <th>Holiday</th>\n",
       "      <th>Dept</th>\n",
       "      <th>Total_Sales</th>\n",
       "      <th>IsHoliday</th>\n",
       "      <th>MONTH</th>\n",
       "      <th>day</th>\n",
       "      <th>week</th>\n",
       "    </tr>\n",
       "  </thead>\n",
       "  <tbody>\n",
       "    <tr>\n",
       "      <th>0</th>\n",
       "      <td>1</td>\n",
       "      <td>2017-02-05</td>\n",
       "      <td>42.31</td>\n",
       "      <td>2.572</td>\n",
       "      <td>NaN</td>\n",
       "      <td>NaN</td>\n",
       "      <td>NaN</td>\n",
       "      <td>NaN</td>\n",
       "      <td>NaN</td>\n",
       "      <td>211.096358</td>\n",
       "      <td>8.106</td>\n",
       "      <td>False</td>\n",
       "      <td>3184.0</td>\n",
       "      <td>1643690.90</td>\n",
       "      <td>0.0</td>\n",
       "      <td>2</td>\n",
       "      <td>5</td>\n",
       "      <td>5</td>\n",
       "    </tr>\n",
       "    <tr>\n",
       "      <th>1</th>\n",
       "      <td>1</td>\n",
       "      <td>2017-02-12</td>\n",
       "      <td>38.51</td>\n",
       "      <td>2.548</td>\n",
       "      <td>NaN</td>\n",
       "      <td>NaN</td>\n",
       "      <td>NaN</td>\n",
       "      <td>NaN</td>\n",
       "      <td>NaN</td>\n",
       "      <td>211.242170</td>\n",
       "      <td>8.106</td>\n",
       "      <td>True</td>\n",
       "      <td>3137.0</td>\n",
       "      <td>1641957.44</td>\n",
       "      <td>72.0</td>\n",
       "      <td>2</td>\n",
       "      <td>12</td>\n",
       "      <td>6</td>\n",
       "    </tr>\n",
       "    <tr>\n",
       "      <th>2</th>\n",
       "      <td>1</td>\n",
       "      <td>2017-02-19</td>\n",
       "      <td>39.93</td>\n",
       "      <td>2.514</td>\n",
       "      <td>NaN</td>\n",
       "      <td>NaN</td>\n",
       "      <td>NaN</td>\n",
       "      <td>NaN</td>\n",
       "      <td>NaN</td>\n",
       "      <td>211.289143</td>\n",
       "      <td>8.106</td>\n",
       "      <td>False</td>\n",
       "      <td>3184.0</td>\n",
       "      <td>1611968.17</td>\n",
       "      <td>0.0</td>\n",
       "      <td>2</td>\n",
       "      <td>19</td>\n",
       "      <td>7</td>\n",
       "    </tr>\n",
       "    <tr>\n",
       "      <th>3</th>\n",
       "      <td>1</td>\n",
       "      <td>2017-02-26</td>\n",
       "      <td>46.63</td>\n",
       "      <td>2.561</td>\n",
       "      <td>NaN</td>\n",
       "      <td>NaN</td>\n",
       "      <td>NaN</td>\n",
       "      <td>NaN</td>\n",
       "      <td>NaN</td>\n",
       "      <td>211.319643</td>\n",
       "      <td>8.106</td>\n",
       "      <td>False</td>\n",
       "      <td>3137.0</td>\n",
       "      <td>1409727.59</td>\n",
       "      <td>0.0</td>\n",
       "      <td>2</td>\n",
       "      <td>26</td>\n",
       "      <td>8</td>\n",
       "    </tr>\n",
       "    <tr>\n",
       "      <th>4</th>\n",
       "      <td>1</td>\n",
       "      <td>2017-03-05</td>\n",
       "      <td>46.50</td>\n",
       "      <td>2.625</td>\n",
       "      <td>NaN</td>\n",
       "      <td>NaN</td>\n",
       "      <td>NaN</td>\n",
       "      <td>NaN</td>\n",
       "      <td>NaN</td>\n",
       "      <td>211.350143</td>\n",
       "      <td>8.106</td>\n",
       "      <td>False</td>\n",
       "      <td>3215.0</td>\n",
       "      <td>1554806.68</td>\n",
       "      <td>0.0</td>\n",
       "      <td>3</td>\n",
       "      <td>5</td>\n",
       "      <td>9</td>\n",
       "    </tr>\n",
       "  </tbody>\n",
       "</table>\n",
       "</div>"
      ],
      "text/plain": [
       "   Store       Date  Temperature  Fuel_Price  MarkDown1  MarkDown2  MarkDown3  \\\n",
       "0      1 2017-02-05        42.31       2.572        NaN        NaN        NaN   \n",
       "1      1 2017-02-12        38.51       2.548        NaN        NaN        NaN   \n",
       "2      1 2017-02-19        39.93       2.514        NaN        NaN        NaN   \n",
       "3      1 2017-02-26        46.63       2.561        NaN        NaN        NaN   \n",
       "4      1 2017-03-05        46.50       2.625        NaN        NaN        NaN   \n",
       "\n",
       "   MarkDown4  MarkDown5         CPI  Unemployment_Rate  Holiday    Dept  \\\n",
       "0        NaN        NaN  211.096358              8.106    False  3184.0   \n",
       "1        NaN        NaN  211.242170              8.106     True  3137.0   \n",
       "2        NaN        NaN  211.289143              8.106    False  3184.0   \n",
       "3        NaN        NaN  211.319643              8.106    False  3137.0   \n",
       "4        NaN        NaN  211.350143              8.106    False  3215.0   \n",
       "\n",
       "   Total_Sales  IsHoliday  MONTH  day  week  \n",
       "0   1643690.90        0.0      2    5     5  \n",
       "1   1641957.44       72.0      2   12     6  \n",
       "2   1611968.17        0.0      2   19     7  \n",
       "3   1409727.59        0.0      2   26     8  \n",
       "4   1554806.68        0.0      3    5     9  "
      ]
     },
     "execution_count": 250,
     "metadata": {},
     "output_type": "execute_result"
    }
   ],
   "source": [
    "df_sales1['MONTH'] = pd.to_datetime(df_sales1['Date']).dt.month\n",
    "df_sales1['day'] = pd.to_datetime(df_sales1['Date']).dt.day\n",
    "df_sales1['week'] = pd.to_datetime(df_sales1['Date']).dt.week\n",
    "df_sales1.head()"
   ]
  },
  {
   "cell_type": "code",
   "execution_count": 251,
   "metadata": {},
   "outputs": [
    {
     "name": "stdout",
     "output_type": "stream",
     "text": [
      "Store                   0\n",
      "Date                    0\n",
      "Temperature             0\n",
      "Fuel_Price              0\n",
      "MarkDown1            4158\n",
      "MarkDown2            5269\n",
      "MarkDown3            4577\n",
      "MarkDown4            4726\n",
      "MarkDown5            4140\n",
      "CPI                   585\n",
      "Unemployment_Rate     585\n",
      "Holiday                 0\n",
      "Dept                 1755\n",
      "Total_Sales          1755\n",
      "IsHoliday            1755\n",
      "MONTH                   0\n",
      "day                     0\n",
      "week                    0\n",
      "dtype: int64\n"
     ]
    }
   ],
   "source": [
    "print(df_sales1.isnull().sum())"
   ]
  },
  {
   "cell_type": "code",
   "execution_count": 13,
   "metadata": {},
   "outputs": [],
   "source": [
    "#df1.rename(columns = {'Store':'Store_x'}, inplace = True)"
   ]
  },
  {
   "cell_type": "code",
   "execution_count": 14,
   "metadata": {},
   "outputs": [
    {
     "data": {
      "text/html": [
       "<div>\n",
       "<style scoped>\n",
       "    .dataframe tbody tr th:only-of-type {\n",
       "        vertical-align: middle;\n",
       "    }\n",
       "\n",
       "    .dataframe tbody tr th {\n",
       "        vertical-align: top;\n",
       "    }\n",
       "\n",
       "    .dataframe thead th {\n",
       "        text-align: right;\n",
       "    }\n",
       "</style>\n",
       "<table border=\"1\" class=\"dataframe\">\n",
       "  <thead>\n",
       "    <tr style=\"text-align: right;\">\n",
       "      <th></th>\n",
       "      <th>Store_x</th>\n",
       "      <th>Type</th>\n",
       "      <th>Address</th>\n",
       "      <th>Area_Code</th>\n",
       "      <th>Location</th>\n",
       "      <th>Size</th>\n",
       "    </tr>\n",
       "  </thead>\n",
       "  <tbody>\n",
       "    <tr>\n",
       "      <th>0</th>\n",
       "      <td>1</td>\n",
       "      <td>E-Commerce Fulfillment</td>\n",
       "      <td>1893 W Malvern Ave, Fullerton, California</td>\n",
       "      <td>92835</td>\n",
       "      <td>Applegate Ranch Shopping Cente</td>\n",
       "      <td>151315</td>\n",
       "    </tr>\n",
       "    <tr>\n",
       "      <th>1</th>\n",
       "      <td>2</td>\n",
       "      <td>E-Commerce Fulfillment</td>\n",
       "      <td>1000 Commerce Ave, Atwater, California</td>\n",
       "      <td>95301</td>\n",
       "      <td>Bayfair Cente</td>\n",
       "      <td>202307</td>\n",
       "    </tr>\n",
       "    <tr>\n",
       "      <th>2</th>\n",
       "      <td>3</td>\n",
       "      <td>Food</td>\n",
       "      <td>15555 East 14th Street, San Leandro, California</td>\n",
       "      <td>94578</td>\n",
       "      <td>Capitola Mal</td>\n",
       "      <td>37392</td>\n",
       "    </tr>\n",
       "    <tr>\n",
       "      <th>3</th>\n",
       "      <td>4</td>\n",
       "      <td>E-Commerce Fulfillment</td>\n",
       "      <td>1855 41st Avenue, Capitola, California</td>\n",
       "      <td>95010</td>\n",
       "      <td>Chino Spectrum Marketplace &amp; Towne Cente</td>\n",
       "      <td>205863</td>\n",
       "    </tr>\n",
       "    <tr>\n",
       "      <th>4</th>\n",
       "      <td>5</td>\n",
       "      <td>Food</td>\n",
       "      <td>3800-4046 Grand Ave.&amp; 3801-4097 Grand Ave., Ch...</td>\n",
       "      <td>91710</td>\n",
       "      <td>Eagle Rock Plaz</td>\n",
       "      <td>34875</td>\n",
       "    </tr>\n",
       "  </tbody>\n",
       "</table>\n",
       "</div>"
      ],
      "text/plain": [
       "   Store_x                    Type  \\\n",
       "0        1  E-Commerce Fulfillment   \n",
       "1        2  E-Commerce Fulfillment   \n",
       "2        3                    Food   \n",
       "3        4  E-Commerce Fulfillment   \n",
       "4        5                    Food   \n",
       "\n",
       "                                             Address  Area_Code  \\\n",
       "0          1893 W Malvern Ave, Fullerton, California      92835   \n",
       "1             1000 Commerce Ave, Atwater, California      95301   \n",
       "2    15555 East 14th Street, San Leandro, California      94578   \n",
       "3             1855 41st Avenue, Capitola, California      95010   \n",
       "4  3800-4046 Grand Ave.& 3801-4097 Grand Ave., Ch...      91710   \n",
       "\n",
       "                                   Location    Size  \n",
       "0            Applegate Ranch Shopping Cente  151315  \n",
       "1                             Bayfair Cente  202307  \n",
       "2                              Capitola Mal   37392  \n",
       "3  Chino Spectrum Marketplace & Towne Cente  205863  \n",
       "4                           Eagle Rock Plaz   34875  "
      ]
     },
     "execution_count": 14,
     "metadata": {},
     "output_type": "execute_result"
    }
   ],
   "source": [
    "#df1.head()"
   ]
  },
  {
   "cell_type": "code",
   "execution_count": 48,
   "metadata": {},
   "outputs": [],
   "source": [
    "df_sales2 = pd.merge(df_sales1,df1, on='Store')\n",
    "#df_sales1.sample(5).style.background_gradient(cmap='cool')"
   ]
  },
  {
   "cell_type": "code",
   "execution_count": 49,
   "metadata": {},
   "outputs": [
    {
     "data": {
      "text/html": [
       "<div>\n",
       "<style scoped>\n",
       "    .dataframe tbody tr th:only-of-type {\n",
       "        vertical-align: middle;\n",
       "    }\n",
       "\n",
       "    .dataframe tbody tr th {\n",
       "        vertical-align: top;\n",
       "    }\n",
       "\n",
       "    .dataframe thead th {\n",
       "        text-align: right;\n",
       "    }\n",
       "</style>\n",
       "<table border=\"1\" class=\"dataframe\">\n",
       "  <thead>\n",
       "    <tr style=\"text-align: right;\">\n",
       "      <th></th>\n",
       "      <th>Store</th>\n",
       "      <th>Dept</th>\n",
       "      <th>Total_Sales</th>\n",
       "      <th>IsHoliday</th>\n",
       "      <th>Date</th>\n",
       "      <th>Temperature</th>\n",
       "      <th>Fuel_Price</th>\n",
       "      <th>MarkDown1</th>\n",
       "      <th>MarkDown2</th>\n",
       "      <th>MarkDown3</th>\n",
       "      <th>MarkDown4</th>\n",
       "      <th>MarkDown5</th>\n",
       "      <th>CPI</th>\n",
       "      <th>Unemployment_Rate</th>\n",
       "      <th>Holiday</th>\n",
       "      <th>MONTH</th>\n",
       "      <th>day</th>\n",
       "      <th>week</th>\n",
       "    </tr>\n",
       "  </thead>\n",
       "  <tbody>\n",
       "    <tr>\n",
       "      <th>0</th>\n",
       "      <td>1</td>\n",
       "      <td>454749</td>\n",
       "      <td>2.224028e+08</td>\n",
       "      <td>723</td>\n",
       "      <td>2017-02-05</td>\n",
       "      <td>42.31</td>\n",
       "      <td>2.572</td>\n",
       "      <td>NaN</td>\n",
       "      <td>NaN</td>\n",
       "      <td>NaN</td>\n",
       "      <td>NaN</td>\n",
       "      <td>NaN</td>\n",
       "      <td>211.096358</td>\n",
       "      <td>8.106</td>\n",
       "      <td>False</td>\n",
       "      <td>2</td>\n",
       "      <td>5</td>\n",
       "      <td>5</td>\n",
       "    </tr>\n",
       "    <tr>\n",
       "      <th>1</th>\n",
       "      <td>1</td>\n",
       "      <td>454749</td>\n",
       "      <td>2.224028e+08</td>\n",
       "      <td>723</td>\n",
       "      <td>2017-02-12</td>\n",
       "      <td>38.51</td>\n",
       "      <td>2.548</td>\n",
       "      <td>NaN</td>\n",
       "      <td>NaN</td>\n",
       "      <td>NaN</td>\n",
       "      <td>NaN</td>\n",
       "      <td>NaN</td>\n",
       "      <td>211.242170</td>\n",
       "      <td>8.106</td>\n",
       "      <td>True</td>\n",
       "      <td>2</td>\n",
       "      <td>12</td>\n",
       "      <td>6</td>\n",
       "    </tr>\n",
       "    <tr>\n",
       "      <th>2</th>\n",
       "      <td>1</td>\n",
       "      <td>454749</td>\n",
       "      <td>2.224028e+08</td>\n",
       "      <td>723</td>\n",
       "      <td>2017-02-19</td>\n",
       "      <td>39.93</td>\n",
       "      <td>2.514</td>\n",
       "      <td>NaN</td>\n",
       "      <td>NaN</td>\n",
       "      <td>NaN</td>\n",
       "      <td>NaN</td>\n",
       "      <td>NaN</td>\n",
       "      <td>211.289143</td>\n",
       "      <td>8.106</td>\n",
       "      <td>False</td>\n",
       "      <td>2</td>\n",
       "      <td>19</td>\n",
       "      <td>7</td>\n",
       "    </tr>\n",
       "    <tr>\n",
       "      <th>3</th>\n",
       "      <td>1</td>\n",
       "      <td>454749</td>\n",
       "      <td>2.224028e+08</td>\n",
       "      <td>723</td>\n",
       "      <td>2017-02-26</td>\n",
       "      <td>46.63</td>\n",
       "      <td>2.561</td>\n",
       "      <td>NaN</td>\n",
       "      <td>NaN</td>\n",
       "      <td>NaN</td>\n",
       "      <td>NaN</td>\n",
       "      <td>NaN</td>\n",
       "      <td>211.319643</td>\n",
       "      <td>8.106</td>\n",
       "      <td>False</td>\n",
       "      <td>2</td>\n",
       "      <td>26</td>\n",
       "      <td>8</td>\n",
       "    </tr>\n",
       "    <tr>\n",
       "      <th>4</th>\n",
       "      <td>1</td>\n",
       "      <td>454749</td>\n",
       "      <td>2.224028e+08</td>\n",
       "      <td>723</td>\n",
       "      <td>2017-03-05</td>\n",
       "      <td>46.50</td>\n",
       "      <td>2.625</td>\n",
       "      <td>NaN</td>\n",
       "      <td>NaN</td>\n",
       "      <td>NaN</td>\n",
       "      <td>NaN</td>\n",
       "      <td>NaN</td>\n",
       "      <td>211.350143</td>\n",
       "      <td>8.106</td>\n",
       "      <td>False</td>\n",
       "      <td>3</td>\n",
       "      <td>5</td>\n",
       "      <td>9</td>\n",
       "    </tr>\n",
       "  </tbody>\n",
       "</table>\n",
       "</div>"
      ],
      "text/plain": [
       "   Store    Dept   Total_Sales  IsHoliday       Date  Temperature  Fuel_Price  \\\n",
       "0      1  454749  2.224028e+08        723 2017-02-05        42.31       2.572   \n",
       "1      1  454749  2.224028e+08        723 2017-02-12        38.51       2.548   \n",
       "2      1  454749  2.224028e+08        723 2017-02-19        39.93       2.514   \n",
       "3      1  454749  2.224028e+08        723 2017-02-26        46.63       2.561   \n",
       "4      1  454749  2.224028e+08        723 2017-03-05        46.50       2.625   \n",
       "\n",
       "   MarkDown1  MarkDown2  MarkDown3  MarkDown4  MarkDown5         CPI  \\\n",
       "0        NaN        NaN        NaN        NaN        NaN  211.096358   \n",
       "1        NaN        NaN        NaN        NaN        NaN  211.242170   \n",
       "2        NaN        NaN        NaN        NaN        NaN  211.289143   \n",
       "3        NaN        NaN        NaN        NaN        NaN  211.319643   \n",
       "4        NaN        NaN        NaN        NaN        NaN  211.350143   \n",
       "\n",
       "   Unemployment_Rate  Holiday  MONTH  day  week  \n",
       "0              8.106    False      2    5     5  \n",
       "1              8.106     True      2   12     6  \n",
       "2              8.106    False      2   19     7  \n",
       "3              8.106    False      2   26     8  \n",
       "4              8.106    False      3    5     9  "
      ]
     },
     "execution_count": 49,
     "metadata": {},
     "output_type": "execute_result"
    }
   ],
   "source": [
    "df_sales1.head()"
   ]
  },
  {
   "cell_type": "code",
   "execution_count": 252,
   "metadata": {},
   "outputs": [
    {
     "name": "stdout",
     "output_type": "stream",
     "text": [
      "Store                   0\n",
      "Date                    0\n",
      "Temperature             0\n",
      "Fuel_Price              0\n",
      "MarkDown1            4158\n",
      "MarkDown2            5269\n",
      "MarkDown3            4577\n",
      "MarkDown4            4726\n",
      "MarkDown5            4140\n",
      "CPI                   585\n",
      "Unemployment_Rate     585\n",
      "Holiday                 0\n",
      "Dept                 1755\n",
      "Total_Sales          1755\n",
      "IsHoliday            1755\n",
      "MONTH                   0\n",
      "day                     0\n",
      "week                    0\n",
      "dtype: int64\n"
     ]
    }
   ],
   "source": [
    "print(df_sales1.isnull().sum())"
   ]
  },
  {
   "cell_type": "code",
   "execution_count": 253,
   "metadata": {},
   "outputs": [],
   "source": [
    "df_sales1['MarkDown1'] = df_sales1['MarkDown1'].fillna(0)\n",
    "df_sales1['MarkDown2'] = df_sales1['MarkDown2'].fillna(0)\n",
    "df_sales1['MarkDown3'] = df_sales1['MarkDown3'].fillna(0)\n",
    "df_sales1['MarkDown4'] = df_sales1['MarkDown4'].fillna(0)\n",
    "df_sales1['MarkDown5'] = df_sales1['MarkDown5'].fillna(0)"
   ]
  },
  {
   "cell_type": "code",
   "execution_count": 254,
   "metadata": {},
   "outputs": [
    {
     "data": {
      "text/html": [
       "<div>\n",
       "<style scoped>\n",
       "    .dataframe tbody tr th:only-of-type {\n",
       "        vertical-align: middle;\n",
       "    }\n",
       "\n",
       "    .dataframe tbody tr th {\n",
       "        vertical-align: top;\n",
       "    }\n",
       "\n",
       "    .dataframe thead th {\n",
       "        text-align: right;\n",
       "    }\n",
       "</style>\n",
       "<table border=\"1\" class=\"dataframe\">\n",
       "  <thead>\n",
       "    <tr style=\"text-align: right;\">\n",
       "      <th></th>\n",
       "      <th>Store</th>\n",
       "      <th>Date</th>\n",
       "      <th>Temperature</th>\n",
       "      <th>Fuel_Price</th>\n",
       "      <th>MarkDown1</th>\n",
       "      <th>MarkDown2</th>\n",
       "      <th>MarkDown3</th>\n",
       "      <th>MarkDown4</th>\n",
       "      <th>MarkDown5</th>\n",
       "      <th>CPI</th>\n",
       "      <th>Unemployment_Rate</th>\n",
       "      <th>Holiday</th>\n",
       "      <th>Dept</th>\n",
       "      <th>Total_Sales</th>\n",
       "      <th>IsHoliday</th>\n",
       "      <th>MONTH</th>\n",
       "      <th>day</th>\n",
       "      <th>week</th>\n",
       "    </tr>\n",
       "  </thead>\n",
       "  <tbody>\n",
       "    <tr>\n",
       "      <th>0</th>\n",
       "      <td>1</td>\n",
       "      <td>2017-02-05</td>\n",
       "      <td>42.31</td>\n",
       "      <td>2.572</td>\n",
       "      <td>0.0</td>\n",
       "      <td>0.0</td>\n",
       "      <td>0.0</td>\n",
       "      <td>0.0</td>\n",
       "      <td>0.0</td>\n",
       "      <td>211.096358</td>\n",
       "      <td>8.106</td>\n",
       "      <td>False</td>\n",
       "      <td>3184.0</td>\n",
       "      <td>1643690.90</td>\n",
       "      <td>0.0</td>\n",
       "      <td>2</td>\n",
       "      <td>5</td>\n",
       "      <td>5</td>\n",
       "    </tr>\n",
       "    <tr>\n",
       "      <th>1</th>\n",
       "      <td>1</td>\n",
       "      <td>2017-02-12</td>\n",
       "      <td>38.51</td>\n",
       "      <td>2.548</td>\n",
       "      <td>0.0</td>\n",
       "      <td>0.0</td>\n",
       "      <td>0.0</td>\n",
       "      <td>0.0</td>\n",
       "      <td>0.0</td>\n",
       "      <td>211.242170</td>\n",
       "      <td>8.106</td>\n",
       "      <td>True</td>\n",
       "      <td>3137.0</td>\n",
       "      <td>1641957.44</td>\n",
       "      <td>72.0</td>\n",
       "      <td>2</td>\n",
       "      <td>12</td>\n",
       "      <td>6</td>\n",
       "    </tr>\n",
       "    <tr>\n",
       "      <th>2</th>\n",
       "      <td>1</td>\n",
       "      <td>2017-02-19</td>\n",
       "      <td>39.93</td>\n",
       "      <td>2.514</td>\n",
       "      <td>0.0</td>\n",
       "      <td>0.0</td>\n",
       "      <td>0.0</td>\n",
       "      <td>0.0</td>\n",
       "      <td>0.0</td>\n",
       "      <td>211.289143</td>\n",
       "      <td>8.106</td>\n",
       "      <td>False</td>\n",
       "      <td>3184.0</td>\n",
       "      <td>1611968.17</td>\n",
       "      <td>0.0</td>\n",
       "      <td>2</td>\n",
       "      <td>19</td>\n",
       "      <td>7</td>\n",
       "    </tr>\n",
       "    <tr>\n",
       "      <th>3</th>\n",
       "      <td>1</td>\n",
       "      <td>2017-02-26</td>\n",
       "      <td>46.63</td>\n",
       "      <td>2.561</td>\n",
       "      <td>0.0</td>\n",
       "      <td>0.0</td>\n",
       "      <td>0.0</td>\n",
       "      <td>0.0</td>\n",
       "      <td>0.0</td>\n",
       "      <td>211.319643</td>\n",
       "      <td>8.106</td>\n",
       "      <td>False</td>\n",
       "      <td>3137.0</td>\n",
       "      <td>1409727.59</td>\n",
       "      <td>0.0</td>\n",
       "      <td>2</td>\n",
       "      <td>26</td>\n",
       "      <td>8</td>\n",
       "    </tr>\n",
       "    <tr>\n",
       "      <th>4</th>\n",
       "      <td>1</td>\n",
       "      <td>2017-03-05</td>\n",
       "      <td>46.50</td>\n",
       "      <td>2.625</td>\n",
       "      <td>0.0</td>\n",
       "      <td>0.0</td>\n",
       "      <td>0.0</td>\n",
       "      <td>0.0</td>\n",
       "      <td>0.0</td>\n",
       "      <td>211.350143</td>\n",
       "      <td>8.106</td>\n",
       "      <td>False</td>\n",
       "      <td>3215.0</td>\n",
       "      <td>1554806.68</td>\n",
       "      <td>0.0</td>\n",
       "      <td>3</td>\n",
       "      <td>5</td>\n",
       "      <td>9</td>\n",
       "    </tr>\n",
       "  </tbody>\n",
       "</table>\n",
       "</div>"
      ],
      "text/plain": [
       "   Store       Date  Temperature  Fuel_Price  MarkDown1  MarkDown2  MarkDown3  \\\n",
       "0      1 2017-02-05        42.31       2.572        0.0        0.0        0.0   \n",
       "1      1 2017-02-12        38.51       2.548        0.0        0.0        0.0   \n",
       "2      1 2017-02-19        39.93       2.514        0.0        0.0        0.0   \n",
       "3      1 2017-02-26        46.63       2.561        0.0        0.0        0.0   \n",
       "4      1 2017-03-05        46.50       2.625        0.0        0.0        0.0   \n",
       "\n",
       "   MarkDown4  MarkDown5         CPI  Unemployment_Rate  Holiday    Dept  \\\n",
       "0        0.0        0.0  211.096358              8.106    False  3184.0   \n",
       "1        0.0        0.0  211.242170              8.106     True  3137.0   \n",
       "2        0.0        0.0  211.289143              8.106    False  3184.0   \n",
       "3        0.0        0.0  211.319643              8.106    False  3137.0   \n",
       "4        0.0        0.0  211.350143              8.106    False  3215.0   \n",
       "\n",
       "   Total_Sales  IsHoliday  MONTH  day  week  \n",
       "0   1643690.90        0.0      2    5     5  \n",
       "1   1641957.44       72.0      2   12     6  \n",
       "2   1611968.17        0.0      2   19     7  \n",
       "3   1409727.59        0.0      2   26     8  \n",
       "4   1554806.68        0.0      3    5     9  "
      ]
     },
     "execution_count": 254,
     "metadata": {},
     "output_type": "execute_result"
    }
   ],
   "source": [
    "df_sales1.head()"
   ]
  },
  {
   "cell_type": "code",
   "execution_count": 255,
   "metadata": {},
   "outputs": [
    {
     "name": "stdout",
     "output_type": "stream",
     "text": [
      "Store                   0\n",
      "Date                    0\n",
      "Temperature             0\n",
      "Fuel_Price              0\n",
      "MarkDown1               0\n",
      "MarkDown2               0\n",
      "MarkDown3               0\n",
      "MarkDown4               0\n",
      "MarkDown5               0\n",
      "CPI                   585\n",
      "Unemployment_Rate     585\n",
      "Holiday                 0\n",
      "Dept                 1755\n",
      "Total_Sales          1755\n",
      "IsHoliday            1755\n",
      "MONTH                   0\n",
      "day                     0\n",
      "week                    0\n",
      "dtype: int64\n"
     ]
    }
   ],
   "source": [
    "print(df_sales1.isnull().sum())"
   ]
  },
  {
   "cell_type": "code",
   "execution_count": null,
   "metadata": {},
   "outputs": [],
   "source": [
    "df_sales1.to_csv('file1.csv')"
   ]
  },
  {
   "cell_type": "code",
   "execution_count": 256,
   "metadata": {},
   "outputs": [],
   "source": [
    "#f_sales1 = df_sales1.drop('Store_y', axis=1)\n",
    "df_sales1 = df_sales1.drop('IsHoliday', axis=1)"
   ]
  },
  {
   "cell_type": "code",
   "execution_count": null,
   "metadata": {},
   "outputs": [],
   "source": []
  },
  {
   "cell_type": "code",
   "execution_count": 257,
   "metadata": {},
   "outputs": [],
   "source": [
    "df_sales1 = df_sales1.drop('Dept', axis=1)"
   ]
  },
  {
   "cell_type": "code",
   "execution_count": 258,
   "metadata": {},
   "outputs": [
    {
     "name": "stdout",
     "output_type": "stream",
     "text": [
      "Store                   0\n",
      "Date                    0\n",
      "Temperature             0\n",
      "Fuel_Price              0\n",
      "MarkDown1               0\n",
      "MarkDown2               0\n",
      "MarkDown3               0\n",
      "MarkDown4               0\n",
      "MarkDown5               0\n",
      "CPI                   585\n",
      "Unemployment_Rate     585\n",
      "Holiday                 0\n",
      "Total_Sales          1755\n",
      "MONTH                   0\n",
      "day                     0\n",
      "week                    0\n",
      "dtype: int64\n"
     ]
    }
   ],
   "source": [
    "print(df_sales1.isnull().sum())"
   ]
  },
  {
   "cell_type": "code",
   "execution_count": 225,
   "metadata": {},
   "outputs": [
    {
     "data": {
      "image/png": "[encoded data removed]",
      "text/plain": [
       "<Figure size 1260x360 with 1 Axes>"
      ]
     },
     "metadata": {
      "needs_background": "light"
     },
     "output_type": "display_data"
    }
   ],
   "source": [
    "sns.displot(data=df_sales1, x=\"Total_Sales\", kde=True, bins = 100,color = \"red\", facecolor = \"#3F7F7F\",height = 5, aspect = 3.5);"
   ]
  },
  {
   "cell_type": "code",
   "execution_count": 226,
   "metadata": {},
   "outputs": [],
   "source": [
    "from scipy.stats import skew"
   ]
  },
  {
   "cell_type": "code",
   "execution_count": 227,
   "metadata": {},
   "outputs": [
    {
     "data": {
      "text/plain": [
       "0.6683617974864519"
      ]
     },
     "execution_count": 227,
     "metadata": {},
     "output_type": "execute_result"
    }
   ],
   "source": [
    "df_sales1['Total_Sales'].skew()"
   ]
  },
  {
   "cell_type": "code",
   "execution_count": 228,
   "metadata": {},
   "outputs": [
    {
     "data": {
      "text/plain": [
       "0.053140927417218986"
      ]
     },
     "execution_count": 228,
     "metadata": {},
     "output_type": "execute_result"
    }
   ],
   "source": [
    "#kutosis\n",
    "df_sales1['Total_Sales'].kurt()\n"
   ]
  },
  {
   "cell_type": "code",
   "execution_count": 229,
   "metadata": {},
   "outputs": [
    {
     "data": {
      "image/png": "[encoded data removed]",
      "text/plain": [
       "<Figure size 1260x360 with 1 Axes>"
      ]
     },
     "metadata": {
      "needs_background": "light"
     },
     "output_type": "display_data"
    }
   ],
   "source": [
    "sns.displot(data=df_sales1, x=\"CPI\", kde=True, bins = 100,color = \"red\", facecolor = \"#3F7F7F\",height = 5, aspect = 3.5);"
   ]
  },
  {
   "cell_type": "code",
   "execution_count": 230,
   "metadata": {},
   "outputs": [
    {
     "data": {
      "text/plain": [
       "0.06766805635790557"
      ]
     },
     "execution_count": 230,
     "metadata": {},
     "output_type": "execute_result"
    }
   ],
   "source": [
    "df_sales1['CPI'].skew()"
   ]
  },
  {
   "cell_type": "code",
   "execution_count": 231,
   "metadata": {},
   "outputs": [
    {
     "data": {
      "text/plain": [
       "-1.832113303688496"
      ]
     },
     "execution_count": 231,
     "metadata": {},
     "output_type": "execute_result"
    }
   ],
   "source": [
    "#kutosis\n",
    "df_sales1['CPI'].kurt()"
   ]
  },
  {
   "cell_type": "code",
   "execution_count": 232,
   "metadata": {},
   "outputs": [
    {
     "data": {
      "image/png": "[encoded data removed]",
      "text/plain": [
       "<Figure size 1260x360 with 1 Axes>"
      ]
     },
     "metadata": {
      "needs_background": "light"
     },
     "output_type": "display_data"
    }
   ],
   "source": [
    "sns.displot(data=df_sales1, x=\"Unemployment_Rate\", kde=True, bins = 100,color = \"red\", facecolor = \"#3F7F7F\",height = 5, aspect = 3.5);"
   ]
  },
  {
   "cell_type": "code",
   "execution_count": 167,
   "metadata": {},
   "outputs": [
    {
     "data": {
      "text/plain": [
       "1.0676854592125302"
      ]
     },
     "execution_count": 167,
     "metadata": {},
     "output_type": "execute_result"
    }
   ],
   "source": [
    "df_sales1['Unemployment_Rate'].skew()"
   ]
  },
  {
   "cell_type": "code",
   "execution_count": 169,
   "metadata": {},
   "outputs": [
    {
     "data": {
      "text/plain": [
       "2.4982210119282136"
      ]
     },
     "execution_count": 169,
     "metadata": {},
     "output_type": "execute_result"
    }
   ],
   "source": [
    "#kutosis\n",
    "df_sales1['Unemployment_Rate'].kurt()"
   ]
  },
  {
   "cell_type": "code",
   "execution_count": 234,
   "metadata": {},
   "outputs": [],
   "source": [
    "df_sales1['Total_Sales'] = df_sales1['Total_Sales'].fillna(df_sales1['Total_Sales'].median(),inplace=True)\n",
    "#df['purch_amt'].fillna(df['purch_amt'].median(), inplace=True)\n",
    "#print(df)"
   ]
  },
  {
   "cell_type": "code",
   "execution_count": 171,
   "metadata": {},
   "outputs": [
    {
     "name": "stdout",
     "output_type": "stream",
     "text": [
      "Store                  0\n",
      "Date                   0\n",
      "Temperature            0\n",
      "Fuel_Price             0\n",
      "MarkDown1              0\n",
      "MarkDown2              0\n",
      "MarkDown3              0\n",
      "MarkDown4              0\n",
      "MarkDown5              0\n",
      "CPI                  585\n",
      "Unemployment_Rate    585\n",
      "Holiday                0\n",
      "Total_Sales            0\n",
      "MONTH                  0\n",
      "day                    0\n",
      "week                   0\n",
      "dtype: int64\n"
     ]
    }
   ],
   "source": [
    "print(df_sales1.isnull().sum())"
   ]
  },
  {
   "cell_type": "code",
   "execution_count": 235,
   "metadata": {},
   "outputs": [
    {
     "data": {
      "image/png": "[encoded data removed]",
      "text/plain": [
       "<Figure size 1260x360 with 1 Axes>"
      ]
     },
     "metadata": {
      "needs_background": "light"
     },
     "output_type": "display_data"
    }
   ],
   "source": [
    "sns.displot(data=df_sales1, x=\"Total_Sales\", kde=True, bins = 100,color = \"red\", facecolor = \"#3F7F7F\",height = 5, aspect = 3.5);"
   ]
  },
  {
   "cell_type": "code",
   "execution_count": 236,
   "metadata": {},
   "outputs": [],
   "source": [
    "df_sales1['Unemployment_Rate'] = df_sales1['Unemployment_Rate'].fillna(df_sales1['CPI'].median(),inplace=True)"
   ]
  },
  {
   "cell_type": "code",
   "execution_count": 237,
   "metadata": {},
   "outputs": [
    {
     "data": {
      "image/png": "[encoded data removed]",
      "text/plain": [
       "<Figure size 1260x360 with 1 Axes>"
      ]
     },
     "metadata": {
      "needs_background": "light"
     },
     "output_type": "display_data"
    }
   ],
   "source": [
    "sns.displot(data=df_sales1, x=\"Unemployment_Rate\", kde=True, bins = 100,color = \"red\", facecolor = \"#3F7F7F\",height = 5, aspect = 3.5);"
   ]
  },
  {
   "cell_type": "code",
   "execution_count": 260,
   "metadata": {},
   "outputs": [],
   "source": [
    "from sklearn.experimental import enable_iterative_imputer\n",
    "from sklearn.impute import IterativeImputer"
   ]
  },
  {
   "cell_type": "code",
   "execution_count": 261,
   "metadata": {},
   "outputs": [],
   "source": [
    "imputer=IterativeImputer(imputation_order='ascending',max_iter=10,random_state=42,n_nearest_features=5)"
   ]
  },
  {
   "cell_type": "code",
   "execution_count": 262,
   "metadata": {},
   "outputs": [
    {
     "data": {
      "text/html": [
       "<style>#sk-container-id-1 {color: black;background-color: white;}#sk-container-id-1 pre{padding: 0;}#sk-container-id-1 div.sk-toggleable {background-color: white;}#sk-container-id-1 label.sk-toggleable__label {cursor: pointer;display: block;width: 100%;margin-bottom: 0;padding: 0.3em;box-sizing: border-box;text-align: center;}#sk-container-id-1 label.sk-toggleable__label-arrow:before {content: \"▸\";float: left;margin-right: 0.25em;color: #696969;}#sk-container-id-1 label.sk-toggleable__label-arrow:hover:before {color: black;}#sk-container-id-1 div.sk-estimator:hover label.sk-toggleable__label-arrow:before {color: black;}#sk-container-id-1 div.sk-toggleable__content {max-height: 0;max-width: 0;overflow: hidden;text-align: left;background-color: #f0f8ff;}#sk-container-id-1 div.sk-toggleable__content pre {margin: 0.2em;color: black;border-radius: 0.25em;background-color: #f0f8ff;}#sk-container-id-1 input.sk-toggleable__control:checked~div.sk-toggleable__content {max-height: 200px;max-width: 100%;overflow: auto;}#sk-container-id-1 input.sk-toggleable__control:checked~label.sk-toggleable__label-arrow:before {content: \"▾\";}#sk-container-id-1 div.sk-estimator input.sk-toggleable__control:checked~label.sk-toggleable__label {background-color: #d4ebff;}#sk-container-id-1 div.sk-label input.sk-toggleable__control:checked~label.sk-toggleable__label {background-color: #d4ebff;}#sk-container-id-1 input.sk-hidden--visually {border: 0;clip: rect(1px 1px 1px 1px);clip: rect(1px, 1px, 1px, 1px);height: 1px;margin: -1px;overflow: hidden;padding: 0;position: absolute;width: 1px;}#sk-container-id-1 div.sk-estimator {font-family: monospace;background-color: #f0f8ff;border: 1px dotted black;border-radius: 0.25em;box-sizing: border-box;margin-bottom: 0.5em;}#sk-container-id-1 div.sk-estimator:hover {background-color: #d4ebff;}#sk-container-id-1 div.sk-parallel-item::after {content: \"\";width: 100%;border-bottom: 1px solid gray;flex-grow: 1;}#sk-container-id-1 div.sk-label:hover label.sk-toggleable__label {background-color: #d4ebff;}#sk-container-id-1 div.sk-serial::before {content: \"\";position: absolute;border-left: 1px solid gray;box-sizing: border-box;top: 0;bottom: 0;left: 50%;z-index: 0;}#sk-container-id-1 div.sk-serial {display: flex;flex-direction: column;align-items: center;background-color: white;padding-right: 0.2em;padding-left: 0.2em;position: relative;}#sk-container-id-1 div.sk-item {position: relative;z-index: 1;}#sk-container-id-1 div.sk-parallel {display: flex;align-items: stretch;justify-content: center;background-color: white;position: relative;}#sk-container-id-1 div.sk-item::before, #sk-container-id-1 div.sk-parallel-item::before {content: \"\";position: absolute;border-left: 1px solid gray;box-sizing: border-box;top: 0;bottom: 0;left: 50%;z-index: -1;}#sk-container-id-1 div.sk-parallel-item {display: flex;flex-direction: column;z-index: 1;position: relative;background-color: white;}#sk-container-id-1 div.sk-parallel-item:first-child::after {align-self: flex-end;width: 50%;}#sk-container-id-1 div.sk-parallel-item:last-child::after {align-self: flex-start;width: 50%;}#sk-container-id-1 div.sk-parallel-item:only-child::after {width: 0;}#sk-container-id-1 div.sk-dashed-wrapped {border: 1px dashed gray;margin: 0 0.4em 0.5em 0.4em;box-sizing: border-box;padding-bottom: 0.4em;background-color: white;}#sk-container-id-1 div.sk-label label {font-family: monospace;font-weight: bold;display: inline-block;line-height: 1.2em;}#sk-container-id-1 div.sk-label-container {text-align: center;}#sk-container-id-1 div.sk-container {/* jupyter's `normalize.less` sets `[hidden] { display: none; }` but bootstrap.min.css set `[hidden] { display: none !important; }` so we also need the `!important` here to be able to override the default hidden behavior on the sphinx rendered scikit-learn.org. See: https://github.com/scikit-learn/scikit-learn/issues/21755 */display: inline-block !important;position: relative;}#sk-container-id-1 div.sk-text-repr-fallback {display: none;}</style><div id=\"sk-container-id-1\" class=\"sk-top-container\"><div class=\"sk-text-repr-fallback\"><pre>IterativeImputer(n_nearest_features=5, random_state=42)</pre><b>In a Jupyter environment, please rerun this cell to show the HTML representation or trust the notebook. <br />On GitHub, the HTML representation is unable to render, please try loading this page with nbviewer.org.</b></div><div class=\"sk-container\" hidden><div class=\"sk-item\"><div class=\"sk-estimator sk-toggleable\"><input class=\"sk-toggleable__control sk-hidden--visually\" id=\"sk-estimator-id-1\" type=\"checkbox\" checked><label for=\"sk-estimator-id-1\" class=\"sk-toggleable__label sk-toggleable__label-arrow\">IterativeImputer</label><div class=\"sk-toggleable__content\"><pre>IterativeImputer(n_nearest_features=5, random_state=42)</pre></div></div></div></div></div>"
      ],
      "text/plain": [
       "IterativeImputer(n_nearest_features=5, random_state=42)"
      ]
     },
     "execution_count": 262,
     "metadata": {},
     "output_type": "execute_result"
    }
   ],
   "source": [
    "imputer"
   ]
  },
  {
   "cell_type": "code",
   "execution_count": 275,
   "metadata": {},
   "outputs": [],
   "source": [
    "df_sales3 = df_sales1"
   ]
  },
  {
   "cell_type": "code",
   "execution_count": 278,
   "metadata": {},
   "outputs": [],
   "source": [
    "df_sales3 = df_sales1.drop('Store', axis=1)\n"
   ]
  },
  {
   "cell_type": "code",
   "execution_count": 280,
   "metadata": {},
   "outputs": [],
   "source": [
    "df_sales3 = df_sales1.drop('Date', axis=1)"
   ]
  },
  {
   "cell_type": "code",
   "execution_count": 282,
   "metadata": {},
   "outputs": [],
   "source": [
    "df_sales3 = df_sales1.drop('Temperature', axis=1)"
   ]
  },
  {
   "cell_type": "code",
   "execution_count": 284,
   "metadata": {},
   "outputs": [],
   "source": [
    "df_sales3 = df_sales1.drop('Fuel_Price', axis=1)\n"
   ]
  },
  {
   "cell_type": "code",
   "execution_count": 288,
   "metadata": {},
   "outputs": [],
   "source": [
    "df_sales3 = df_sales1.drop(['MarkDown1', 'MarkDown2'], axis=1)\n"
   ]
  },
  {
   "cell_type": "code",
   "execution_count": 290,
   "metadata": {},
   "outputs": [],
   "source": [
    "df_sales3 = df_sales1.drop(['MarkDown3', 'MarkDown4', 'MarkDown5', 'CPI', 'Unemployment_Rate'], axis=1)"
   ]
  },
  {
   "cell_type": "code",
   "execution_count": null,
   "metadata": {},
   "outputs": [],
   "source": [
    "df_sales3 = df_sales1.drop('MarkDown2', axis=1)\n",
    "df_sales3 = df_sales1.drop('MarkDown3', axis=1)\n",
    "df_sales3 = df_sales1.drop('MarkDown4', axis=1)\n",
    "df_sales3 = df_sales1.drop('MarkDown5', axis=1)\n",
    "df_sales3 = df_sales1.drop('CPI', axis=1)\n",
    "df_sales3 = df_sales1.drop('Unemployment_Rate', axis=1)"
   ]
  },
  {
   "cell_type": "code",
   "execution_count": 295,
   "metadata": {},
   "outputs": [],
   "source": [
    "df_sales3 = df_sales1.drop(['Date', 'Temperature', 'Fuel_Price', 'Holiday','MarkDown1', 'MarkDown2', 'MarkDown3', 'MarkDown4', 'MarkDown5', 'CPI', 'Unemployment_Rate' ], axis=1)"
   ]
  },
  {
   "cell_type": "code",
   "execution_count": 299,
   "metadata": {},
   "outputs": [],
   "source": [
    "#df_sales3 = df_sales3.round({'Total_Sales',1})\n",
    "df_sales3['Total_Sales'] = df_sales3['Total_Sales'].round(decimals = 0)"
   ]
  },
  {
   "cell_type": "code",
   "execution_count": 300,
   "metadata": {},
   "outputs": [
    {
     "data": {
      "text/html": [
       "<div>\n",
       "<style scoped>\n",
       "    .dataframe tbody tr th:only-of-type {\n",
       "        vertical-align: middle;\n",
       "    }\n",
       "\n",
       "    .dataframe tbody tr th {\n",
       "        vertical-align: top;\n",
       "    }\n",
       "\n",
       "    .dataframe thead th {\n",
       "        text-align: right;\n",
       "    }\n",
       "</style>\n",
       "<table border=\"1\" class=\"dataframe\">\n",
       "  <thead>\n",
       "    <tr style=\"text-align: right;\">\n",
       "      <th></th>\n",
       "      <th>Store</th>\n",
       "      <th>Total_Sales</th>\n",
       "      <th>MONTH</th>\n",
       "      <th>day</th>\n",
       "      <th>week</th>\n",
       "    </tr>\n",
       "  </thead>\n",
       "  <tbody>\n",
       "    <tr>\n",
       "      <th>0</th>\n",
       "      <td>1</td>\n",
       "      <td>1643691.0</td>\n",
       "      <td>2</td>\n",
       "      <td>5</td>\n",
       "      <td>5</td>\n",
       "    </tr>\n",
       "    <tr>\n",
       "      <th>1</th>\n",
       "      <td>1</td>\n",
       "      <td>1641957.0</td>\n",
       "      <td>2</td>\n",
       "      <td>12</td>\n",
       "      <td>6</td>\n",
       "    </tr>\n",
       "    <tr>\n",
       "      <th>2</th>\n",
       "      <td>1</td>\n",
       "      <td>1611968.0</td>\n",
       "      <td>2</td>\n",
       "      <td>19</td>\n",
       "      <td>7</td>\n",
       "    </tr>\n",
       "    <tr>\n",
       "      <th>3</th>\n",
       "      <td>1</td>\n",
       "      <td>1409728.0</td>\n",
       "      <td>2</td>\n",
       "      <td>26</td>\n",
       "      <td>8</td>\n",
       "    </tr>\n",
       "    <tr>\n",
       "      <th>4</th>\n",
       "      <td>1</td>\n",
       "      <td>1554807.0</td>\n",
       "      <td>3</td>\n",
       "      <td>5</td>\n",
       "      <td>9</td>\n",
       "    </tr>\n",
       "  </tbody>\n",
       "</table>\n",
       "</div>"
      ],
      "text/plain": [
       "   Store  Total_Sales  MONTH  day  week\n",
       "0      1    1643691.0      2    5     5\n",
       "1      1    1641957.0      2   12     6\n",
       "2      1    1611968.0      2   19     7\n",
       "3      1    1409728.0      2   26     8\n",
       "4      1    1554807.0      3    5     9"
      ]
     },
     "execution_count": 300,
     "metadata": {},
     "output_type": "execute_result"
    }
   ],
   "source": [
    "df_sales3.head()"
   ]
  },
  {
   "cell_type": "code",
   "execution_count": 301,
   "metadata": {},
   "outputs": [],
   "source": [
    "imputed_dataset = imputer.fit_transform(df_sales3)"
   ]
  },
  {
   "cell_type": "code",
   "execution_count": 305,
   "metadata": {},
   "outputs": [
    {
     "data": {
      "text/plain": [
       "array([[1.00000000e+00, 1.64369100e+06, 2.00000000e+00, 5.00000000e+00,\n",
       "        5.00000000e+00],\n",
       "       [1.00000000e+00, 1.64195700e+06, 2.00000000e+00, 1.20000000e+01,\n",
       "        6.00000000e+00],\n",
       "       [1.00000000e+00, 1.61196800e+06, 2.00000000e+00, 1.90000000e+01,\n",
       "        7.00000000e+00],\n",
       "       ...,\n",
       "       [4.50000000e+01, 7.39895907e+05, 7.00000000e+00, 1.20000000e+01,\n",
       "        2.80000000e+01],\n",
       "       [4.50000000e+01, 7.31992942e+05, 7.00000000e+00, 1.90000000e+01,\n",
       "        2.90000000e+01],\n",
       "       [4.50000000e+01, 7.24089977e+05, 7.00000000e+00, 2.60000000e+01,\n",
       "        3.00000000e+01]])"
      ]
     },
     "execution_count": 305,
     "metadata": {},
     "output_type": "execute_result"
    }
   ],
   "source": [
    "imputed_dataset"
   ]
  },
  {
   "cell_type": "code",
   "execution_count": 20,
   "metadata": {},
   "outputs": [
    {
     "data": {
      "text/html": [
       "<div>\n",
       "<style scoped>\n",
       "    .dataframe tbody tr th:only-of-type {\n",
       "        vertical-align: middle;\n",
       "    }\n",
       "\n",
       "    .dataframe tbody tr th {\n",
       "        vertical-align: top;\n",
       "    }\n",
       "\n",
       "    .dataframe thead th {\n",
       "        text-align: right;\n",
       "    }\n",
       "</style>\n",
       "<table border=\"1\" class=\"dataframe\">\n",
       "  <thead>\n",
       "    <tr style=\"text-align: right;\">\n",
       "      <th></th>\n",
       "      <th>Store_x</th>\n",
       "      <th>Dept</th>\n",
       "      <th>Total_Sales</th>\n",
       "      <th>Temperature</th>\n",
       "      <th>Fuel_Price</th>\n",
       "      <th>MarkDown1</th>\n",
       "      <th>MarkDown2</th>\n",
       "      <th>MarkDown3</th>\n",
       "      <th>MarkDown4</th>\n",
       "      <th>MarkDown5</th>\n",
       "      <th>CPI</th>\n",
       "      <th>Unemployment_Rate</th>\n",
       "      <th>MONTH</th>\n",
       "      <th>day</th>\n",
       "      <th>week</th>\n",
       "      <th>Area_Code</th>\n",
       "      <th>Size</th>\n",
       "    </tr>\n",
       "  </thead>\n",
       "  <tbody>\n",
       "    <tr>\n",
       "      <th>count</th>\n",
       "      <td>1.897065e+07</td>\n",
       "      <td>1.897065e+07</td>\n",
       "      <td>1.897065e+07</td>\n",
       "      <td>1.897065e+07</td>\n",
       "      <td>1.897065e+07</td>\n",
       "      <td>1.897065e+07</td>\n",
       "      <td>1.897065e+07</td>\n",
       "      <td>1.897065e+07</td>\n",
       "      <td>1.897065e+07</td>\n",
       "      <td>1.897065e+07</td>\n",
       "      <td>1.897065e+07</td>\n",
       "      <td>1.897065e+07</td>\n",
       "      <td>1.897065e+07</td>\n",
       "      <td>1.897065e+07</td>\n",
       "      <td>1.897065e+07</td>\n",
       "      <td>1.897065e+07</td>\n",
       "      <td>1.897065e+07</td>\n",
       "    </tr>\n",
       "    <tr>\n",
       "      <th>mean</th>\n",
       "      <td>2.220055e+01</td>\n",
       "      <td>4.426032e+01</td>\n",
       "      <td>1.598126e+04</td>\n",
       "      <td>6.061244e+01</td>\n",
       "      <td>3.360214e+00</td>\n",
       "      <td>2.446610e+03</td>\n",
       "      <td>8.289105e+02</td>\n",
       "      <td>4.392291e+02</td>\n",
       "      <td>1.017252e+03</td>\n",
       "      <td>1.594344e+03</td>\n",
       "      <td>1.715942e+02</td>\n",
       "      <td>7.996925e+00</td>\n",
       "      <td>6.456536e+00</td>\n",
       "      <td>1.570117e+01</td>\n",
       "      <td>2.582676e+01</td>\n",
       "      <td>9.308767e+04</td>\n",
       "      <td>1.367279e+05</td>\n",
       "    </tr>\n",
       "    <tr>\n",
       "      <th>std</th>\n",
       "      <td>1.278528e+01</td>\n",
       "      <td>3.049202e+01</td>\n",
       "      <td>2.271116e+04</td>\n",
       "      <td>1.844159e+01</td>\n",
       "      <td>4.586505e-01</td>\n",
       "      <td>5.891666e+03</td>\n",
       "      <td>4.915503e+03</td>\n",
       "      <td>5.337300e+03</td>\n",
       "      <td>3.770872e+03</td>\n",
       "      <td>4.109532e+03</td>\n",
       "      <td>3.935915e+01</td>\n",
       "      <td>1.875471e+00</td>\n",
       "      <td>3.247645e+00</td>\n",
       "      <td>8.757256e+00</td>\n",
       "      <td>1.415187e+01</td>\n",
       "      <td>1.678730e+03</td>\n",
       "      <td>6.098051e+04</td>\n",
       "    </tr>\n",
       "    <tr>\n",
       "      <th>min</th>\n",
       "      <td>1.000000e+00</td>\n",
       "      <td>1.000000e+00</td>\n",
       "      <td>-4.988940e+03</td>\n",
       "      <td>-2.060000e+00</td>\n",
       "      <td>2.472000e+00</td>\n",
       "      <td>0.000000e+00</td>\n",
       "      <td>-2.657600e+02</td>\n",
       "      <td>-2.910000e+01</td>\n",
       "      <td>0.000000e+00</td>\n",
       "      <td>0.000000e+00</td>\n",
       "      <td>1.260640e+02</td>\n",
       "      <td>3.879000e+00</td>\n",
       "      <td>1.000000e+00</td>\n",
       "      <td>1.000000e+00</td>\n",
       "      <td>1.000000e+00</td>\n",
       "      <td>9.004100e+04</td>\n",
       "      <td>3.487500e+04</td>\n",
       "    </tr>\n",
       "    <tr>\n",
       "      <th>25%</th>\n",
       "      <td>1.100000e+01</td>\n",
       "      <td>1.800000e+01</td>\n",
       "      <td>2.079640e+03</td>\n",
       "      <td>4.735000e+01</td>\n",
       "      <td>2.935000e+00</td>\n",
       "      <td>0.000000e+00</td>\n",
       "      <td>0.000000e+00</td>\n",
       "      <td>0.000000e+00</td>\n",
       "      <td>0.000000e+00</td>\n",
       "      <td>0.000000e+00</td>\n",
       "      <td>1.317350e+02</td>\n",
       "      <td>6.891000e+00</td>\n",
       "      <td>4.000000e+00</td>\n",
       "      <td>8.000000e+00</td>\n",
       "      <td>1.400000e+01</td>\n",
       "      <td>9.194200e+04</td>\n",
       "      <td>9.363800e+04</td>\n",
       "    </tr>\n",
       "    <tr>\n",
       "      <th>50%</th>\n",
       "      <td>2.200000e+01</td>\n",
       "      <td>3.700000e+01</td>\n",
       "      <td>7.612030e+03</td>\n",
       "      <td>6.262000e+01</td>\n",
       "      <td>3.452000e+00</td>\n",
       "      <td>0.000000e+00</td>\n",
       "      <td>0.000000e+00</td>\n",
       "      <td>0.000000e+00</td>\n",
       "      <td>0.000000e+00</td>\n",
       "      <td>0.000000e+00</td>\n",
       "      <td>1.826165e+02</td>\n",
       "      <td>7.874000e+00</td>\n",
       "      <td>6.000000e+00</td>\n",
       "      <td>1.600000e+01</td>\n",
       "      <td>2.600000e+01</td>\n",
       "      <td>9.283200e+04</td>\n",
       "      <td>1.401670e+05</td>\n",
       "    </tr>\n",
       "    <tr>\n",
       "      <th>75%</th>\n",
       "      <td>3.300000e+01</td>\n",
       "      <td>7.400000e+01</td>\n",
       "      <td>2.020586e+04</td>\n",
       "      <td>7.488000e+01</td>\n",
       "      <td>3.735000e+00</td>\n",
       "      <td>2.345030e+03</td>\n",
       "      <td>3.300000e-01</td>\n",
       "      <td>3.910000e+00</td>\n",
       "      <td>3.256800e+02</td>\n",
       "      <td>2.003640e+03</td>\n",
       "      <td>2.127700e+02</td>\n",
       "      <td>8.622000e+00</td>\n",
       "      <td>9.000000e+00</td>\n",
       "      <td>2.300000e+01</td>\n",
       "      <td>3.800000e+01</td>\n",
       "      <td>9.457800e+04</td>\n",
       "      <td>2.025050e+05</td>\n",
       "    </tr>\n",
       "    <tr>\n",
       "      <th>max</th>\n",
       "      <td>4.500000e+01</td>\n",
       "      <td>9.900000e+01</td>\n",
       "      <td>6.930994e+05</td>\n",
       "      <td>1.001400e+02</td>\n",
       "      <td>4.468000e+00</td>\n",
       "      <td>8.864676e+04</td>\n",
       "      <td>1.045195e+05</td>\n",
       "      <td>1.416306e+05</td>\n",
       "      <td>6.747485e+04</td>\n",
       "      <td>1.085193e+05</td>\n",
       "      <td>2.272328e+02</td>\n",
       "      <td>1.431300e+01</td>\n",
       "      <td>1.200000e+01</td>\n",
       "      <td>3.100000e+01</td>\n",
       "      <td>5.200000e+01</td>\n",
       "      <td>9.583400e+04</td>\n",
       "      <td>2.196220e+05</td>\n",
       "    </tr>\n",
       "  </tbody>\n",
       "</table>\n",
       "</div>"
      ],
      "text/plain": [
       "            Store_x          Dept   Total_Sales   Temperature    Fuel_Price  \\\n",
       "count  1.897065e+07  1.897065e+07  1.897065e+07  1.897065e+07  1.897065e+07   \n",
       "mean   2.220055e+01  4.426032e+01  1.598126e+04  6.061244e+01  3.360214e+00   \n",
       "std    1.278528e+01  3.049202e+01  2.271116e+04  1.844159e+01  4.586505e-01   \n",
       "min    1.000000e+00  1.000000e+00 -4.988940e+03 -2.060000e+00  2.472000e+00   \n",
       "25%    1.100000e+01  1.800000e+01  2.079640e+03  4.735000e+01  2.935000e+00   \n",
       "50%    2.200000e+01  3.700000e+01  7.612030e+03  6.262000e+01  3.452000e+00   \n",
       "75%    3.300000e+01  7.400000e+01  2.020586e+04  7.488000e+01  3.735000e+00   \n",
       "max    4.500000e+01  9.900000e+01  6.930994e+05  1.001400e+02  4.468000e+00   \n",
       "\n",
       "          MarkDown1     MarkDown2     MarkDown3     MarkDown4     MarkDown5  \\\n",
       "count  1.897065e+07  1.897065e+07  1.897065e+07  1.897065e+07  1.897065e+07   \n",
       "mean   2.446610e+03  8.289105e+02  4.392291e+02  1.017252e+03  1.594344e+03   \n",
       "std    5.891666e+03  4.915503e+03  5.337300e+03  3.770872e+03  4.109532e+03   \n",
       "min    0.000000e+00 -2.657600e+02 -2.910000e+01  0.000000e+00  0.000000e+00   \n",
       "25%    0.000000e+00  0.000000e+00  0.000000e+00  0.000000e+00  0.000000e+00   \n",
       "50%    0.000000e+00  0.000000e+00  0.000000e+00  0.000000e+00  0.000000e+00   \n",
       "75%    2.345030e+03  3.300000e-01  3.910000e+00  3.256800e+02  2.003640e+03   \n",
       "max    8.864676e+04  1.045195e+05  1.416306e+05  6.747485e+04  1.085193e+05   \n",
       "\n",
       "                CPI  Unemployment_Rate         MONTH           day  \\\n",
       "count  1.897065e+07       1.897065e+07  1.897065e+07  1.897065e+07   \n",
       "mean   1.715942e+02       7.996925e+00  6.456536e+00  1.570117e+01   \n",
       "std    3.935915e+01       1.875471e+00  3.247645e+00  8.757256e+00   \n",
       "min    1.260640e+02       3.879000e+00  1.000000e+00  1.000000e+00   \n",
       "25%    1.317350e+02       6.891000e+00  4.000000e+00  8.000000e+00   \n",
       "50%    1.826165e+02       7.874000e+00  6.000000e+00  1.600000e+01   \n",
       "75%    2.127700e+02       8.622000e+00  9.000000e+00  2.300000e+01   \n",
       "max    2.272328e+02       1.431300e+01  1.200000e+01  3.100000e+01   \n",
       "\n",
       "               week     Area_Code          Size  \n",
       "count  1.897065e+07  1.897065e+07  1.897065e+07  \n",
       "mean   2.582676e+01  9.308767e+04  1.367279e+05  \n",
       "std    1.415187e+01  1.678730e+03  6.098051e+04  \n",
       "min    1.000000e+00  9.004100e+04  3.487500e+04  \n",
       "25%    1.400000e+01  9.194200e+04  9.363800e+04  \n",
       "50%    2.600000e+01  9.283200e+04  1.401670e+05  \n",
       "75%    3.800000e+01  9.457800e+04  2.025050e+05  \n",
       "max    5.200000e+01  9.583400e+04  2.196220e+05  "
      ]
     },
     "execution_count": 20,
     "metadata": {},
     "output_type": "execute_result"
    }
   ],
   "source": [
    "df_sales1.describe()"
   ]
  },
  {
   "cell_type": "code",
   "execution_count": 21,
   "metadata": {},
   "outputs": [
    {
     "name": "stdout",
     "output_type": "stream",
     "text": [
      "<class 'pandas.core.frame.DataFrame'>\n",
      "Int64Index: 18970650 entries, 0 to 18970649\n",
      "Data columns (total 22 columns):\n",
      " #   Column             Dtype         \n",
      "---  ------             -----         \n",
      " 0   Store_x            int64         \n",
      " 1   Dept               int64         \n",
      " 2   Date               datetime64[ns]\n",
      " 3   Total_Sales        float64       \n",
      " 4   Temperature        float64       \n",
      " 5   Fuel_Price         float64       \n",
      " 6   MarkDown1          float64       \n",
      " 7   MarkDown2          float64       \n",
      " 8   MarkDown3          float64       \n",
      " 9   MarkDown4          float64       \n",
      " 10  MarkDown5          float64       \n",
      " 11  CPI                float64       \n",
      " 12  Unemployment_Rate  float64       \n",
      " 13  Holiday            bool          \n",
      " 14  MONTH              int64         \n",
      " 15  day                int64         \n",
      " 16  week               int64         \n",
      " 17  Type               object        \n",
      " 18  Address            object        \n",
      " 19  Area_Code          int64         \n",
      " 20  Location           object        \n",
      " 21  Size               int64         \n",
      "dtypes: bool(1), datetime64[ns](1), float64(10), int64(7), object(3)\n",
      "memory usage: 3.1+ GB\n"
     ]
    }
   ],
   "source": [
    "df_sales1.info()"
   ]
  },
  {
   "cell_type": "code",
   "execution_count": 22,
   "metadata": {},
   "outputs": [
    {
     "data": {
      "text/html": [
       "<div>\n",
       "<style scoped>\n",
       "    .dataframe tbody tr th:only-of-type {\n",
       "        vertical-align: middle;\n",
       "    }\n",
       "\n",
       "    .dataframe tbody tr th {\n",
       "        vertical-align: top;\n",
       "    }\n",
       "\n",
       "    .dataframe thead th {\n",
       "        text-align: right;\n",
       "    }\n",
       "</style>\n",
       "<table border=\"1\" class=\"dataframe\">\n",
       "  <thead>\n",
       "    <tr style=\"text-align: right;\">\n",
       "      <th></th>\n",
       "      <th>Store_x</th>\n",
       "      <th>Dept</th>\n",
       "      <th>Date</th>\n",
       "      <th>Total_Sales</th>\n",
       "      <th>Temperature</th>\n",
       "      <th>Fuel_Price</th>\n",
       "      <th>MarkDown1</th>\n",
       "      <th>MarkDown2</th>\n",
       "      <th>MarkDown3</th>\n",
       "      <th>MarkDown4</th>\n",
       "      <th>...</th>\n",
       "      <th>Unemployment_Rate</th>\n",
       "      <th>Holiday</th>\n",
       "      <th>MONTH</th>\n",
       "      <th>day</th>\n",
       "      <th>week</th>\n",
       "      <th>Type</th>\n",
       "      <th>Address</th>\n",
       "      <th>Area_Code</th>\n",
       "      <th>Location</th>\n",
       "      <th>Size</th>\n",
       "    </tr>\n",
       "  </thead>\n",
       "  <tbody>\n",
       "    <tr>\n",
       "      <th>0</th>\n",
       "      <td>1</td>\n",
       "      <td>1</td>\n",
       "      <td>2017-02-05</td>\n",
       "      <td>24924.5</td>\n",
       "      <td>42.31</td>\n",
       "      <td>2.572</td>\n",
       "      <td>0.0</td>\n",
       "      <td>0.0</td>\n",
       "      <td>0.0</td>\n",
       "      <td>0.0</td>\n",
       "      <td>...</td>\n",
       "      <td>8.106</td>\n",
       "      <td>False</td>\n",
       "      <td>2</td>\n",
       "      <td>5</td>\n",
       "      <td>5</td>\n",
       "      <td>E-Commerce Fulfillment</td>\n",
       "      <td>1893 W Malvern Ave, Fullerton, California</td>\n",
       "      <td>92835</td>\n",
       "      <td>Applegate Ranch Shopping Cente</td>\n",
       "      <td>151315</td>\n",
       "    </tr>\n",
       "    <tr>\n",
       "      <th>1</th>\n",
       "      <td>1</td>\n",
       "      <td>1</td>\n",
       "      <td>2017-02-05</td>\n",
       "      <td>24924.5</td>\n",
       "      <td>40.19</td>\n",
       "      <td>2.572</td>\n",
       "      <td>0.0</td>\n",
       "      <td>0.0</td>\n",
       "      <td>0.0</td>\n",
       "      <td>0.0</td>\n",
       "      <td>...</td>\n",
       "      <td>8.324</td>\n",
       "      <td>False</td>\n",
       "      <td>2</td>\n",
       "      <td>5</td>\n",
       "      <td>5</td>\n",
       "      <td>E-Commerce Fulfillment</td>\n",
       "      <td>1893 W Malvern Ave, Fullerton, California</td>\n",
       "      <td>92835</td>\n",
       "      <td>Applegate Ranch Shopping Cente</td>\n",
       "      <td>151315</td>\n",
       "    </tr>\n",
       "    <tr>\n",
       "      <th>2</th>\n",
       "      <td>1</td>\n",
       "      <td>1</td>\n",
       "      <td>2017-02-05</td>\n",
       "      <td>24924.5</td>\n",
       "      <td>45.71</td>\n",
       "      <td>2.572</td>\n",
       "      <td>0.0</td>\n",
       "      <td>0.0</td>\n",
       "      <td>0.0</td>\n",
       "      <td>0.0</td>\n",
       "      <td>...</td>\n",
       "      <td>7.368</td>\n",
       "      <td>False</td>\n",
       "      <td>2</td>\n",
       "      <td>5</td>\n",
       "      <td>5</td>\n",
       "      <td>E-Commerce Fulfillment</td>\n",
       "      <td>1893 W Malvern Ave, Fullerton, California</td>\n",
       "      <td>92835</td>\n",
       "      <td>Applegate Ranch Shopping Cente</td>\n",
       "      <td>151315</td>\n",
       "    </tr>\n",
       "    <tr>\n",
       "      <th>3</th>\n",
       "      <td>1</td>\n",
       "      <td>1</td>\n",
       "      <td>2017-02-05</td>\n",
       "      <td>24924.5</td>\n",
       "      <td>43.76</td>\n",
       "      <td>2.598</td>\n",
       "      <td>0.0</td>\n",
       "      <td>0.0</td>\n",
       "      <td>0.0</td>\n",
       "      <td>0.0</td>\n",
       "      <td>...</td>\n",
       "      <td>8.623</td>\n",
       "      <td>False</td>\n",
       "      <td>2</td>\n",
       "      <td>5</td>\n",
       "      <td>5</td>\n",
       "      <td>E-Commerce Fulfillment</td>\n",
       "      <td>1893 W Malvern Ave, Fullerton, California</td>\n",
       "      <td>92835</td>\n",
       "      <td>Applegate Ranch Shopping Cente</td>\n",
       "      <td>151315</td>\n",
       "    </tr>\n",
       "    <tr>\n",
       "      <th>4</th>\n",
       "      <td>1</td>\n",
       "      <td>1</td>\n",
       "      <td>2017-02-05</td>\n",
       "      <td>24924.5</td>\n",
       "      <td>39.70</td>\n",
       "      <td>2.572</td>\n",
       "      <td>0.0</td>\n",
       "      <td>0.0</td>\n",
       "      <td>0.0</td>\n",
       "      <td>0.0</td>\n",
       "      <td>...</td>\n",
       "      <td>6.566</td>\n",
       "      <td>False</td>\n",
       "      <td>2</td>\n",
       "      <td>5</td>\n",
       "      <td>5</td>\n",
       "      <td>E-Commerce Fulfillment</td>\n",
       "      <td>1893 W Malvern Ave, Fullerton, California</td>\n",
       "      <td>92835</td>\n",
       "      <td>Applegate Ranch Shopping Cente</td>\n",
       "      <td>151315</td>\n",
       "    </tr>\n",
       "  </tbody>\n",
       "</table>\n",
       "<p>5 rows × 22 columns</p>\n",
       "</div>"
      ],
      "text/plain": [
       "   Store_x  Dept       Date  Total_Sales  Temperature  Fuel_Price  MarkDown1  \\\n",
       "0        1     1 2017-02-05      24924.5        42.31       2.572        0.0   \n",
       "1        1     1 2017-02-05      24924.5        40.19       2.572        0.0   \n",
       "2        1     1 2017-02-05      24924.5        45.71       2.572        0.0   \n",
       "3        1     1 2017-02-05      24924.5        43.76       2.598        0.0   \n",
       "4        1     1 2017-02-05      24924.5        39.70       2.572        0.0   \n",
       "\n",
       "   MarkDown2  MarkDown3  MarkDown4  ...  Unemployment_Rate  Holiday  MONTH  \\\n",
       "0        0.0        0.0        0.0  ...              8.106    False      2   \n",
       "1        0.0        0.0        0.0  ...              8.324    False      2   \n",
       "2        0.0        0.0        0.0  ...              7.368    False      2   \n",
       "3        0.0        0.0        0.0  ...              8.623    False      2   \n",
       "4        0.0        0.0        0.0  ...              6.566    False      2   \n",
       "\n",
       "   day  week                    Type  \\\n",
       "0    5     5  E-Commerce Fulfillment   \n",
       "1    5     5  E-Commerce Fulfillment   \n",
       "2    5     5  E-Commerce Fulfillment   \n",
       "3    5     5  E-Commerce Fulfillment   \n",
       "4    5     5  E-Commerce Fulfillment   \n",
       "\n",
       "                                     Address Area_Code  \\\n",
       "0  1893 W Malvern Ave, Fullerton, California     92835   \n",
       "1  1893 W Malvern Ave, Fullerton, California     92835   \n",
       "2  1893 W Malvern Ave, Fullerton, California     92835   \n",
       "3  1893 W Malvern Ave, Fullerton, California     92835   \n",
       "4  1893 W Malvern Ave, Fullerton, California     92835   \n",
       "\n",
       "                         Location    Size  \n",
       "0  Applegate Ranch Shopping Cente  151315  \n",
       "1  Applegate Ranch Shopping Cente  151315  \n",
       "2  Applegate Ranch Shopping Cente  151315  \n",
       "3  Applegate Ranch Shopping Cente  151315  \n",
       "4  Applegate Ranch Shopping Cente  151315  \n",
       "\n",
       "[5 rows x 22 columns]"
      ]
     },
     "execution_count": 22,
     "metadata": {},
     "output_type": "execute_result"
    }
   ],
   "source": [
    "df_sales1.head()"
   ]
  },
  {
   "cell_type": "code",
   "execution_count": 24,
   "metadata": {},
   "outputs": [
    {
     "data": {
      "text/plain": [
       "(array([ 0.5,  1.5,  2.5,  3.5,  4.5,  5.5,  6.5,  7.5,  8.5,  9.5, 10.5,\n",
       "        11.5, 12.5, 13.5, 14.5, 15.5]),\n",
       " [Text(0.5, 0, 'Store_x'),\n",
       "  Text(1.5, 0, 'Dept'),\n",
       "  Text(2.5, 0, 'Total_Sales'),\n",
       "  Text(3.5, 0, 'Temperature'),\n",
       "  Text(4.5, 0, 'Fuel_Price'),\n",
       "  Text(5.5, 0, 'MarkDown1'),\n",
       "  Text(6.5, 0, 'MarkDown2'),\n",
       "  Text(7.5, 0, 'MarkDown3'),\n",
       "  Text(8.5, 0, 'MarkDown4'),\n",
       "  Text(9.5, 0, 'MarkDown5'),\n",
       "  Text(10.5, 0, 'CPI'),\n",
       "  Text(11.5, 0, 'Unemployment_Rate'),\n",
       "  Text(12.5, 0, 'Holiday'),\n",
       "  Text(13.5, 0, 'MONTH'),\n",
       "  Text(14.5, 0, 'Area_Code'),\n",
       "  Text(15.5, 0, 'Size')])"
      ]
     },
     "execution_count": 24,
     "metadata": {},
     "output_type": "execute_result"
    },
    {
     "data": {
      "image/png": "[encoded data removed]",
      "text/plain": [
       "<Figure size 1152x432 with 2 Axes>"
      ]
     },
     "metadata": {
      "needs_background": "light"
     },
     "output_type": "display_data"
    }
   ],
   "source": [
    "plt.figure(figsize = (16,6)) # Create matplotlib figure\n",
    "sns.heatmap(df_sales1.corr(), annot = True, linewidths=1, fmt=\".2g\", cmap= 'coolwarm') \n",
    "# fmt = .1e (scientific notation), .2f (2 decimal places), .3g(3 significant figures), .2%(percentage with 2 decimal places)\n",
    "plt.xticks(rotation='vertical')"
   ]
  },
  {
   "cell_type": "code",
   "execution_count": 23,
   "metadata": {},
   "outputs": [
    {
     "data": {
      "image/png": "[encoded data removed]",
      "text/plain": [
       "<Figure size 432x288 with 1 Axes>"
      ]
     },
     "metadata": {
      "needs_background": "light"
     },
     "output_type": "display_data"
    }
   ],
   "source": [
    "plt.boxplot(df_sales1['Total_Sales'])\n",
    "plt.show()"
   ]
  },
  {
   "cell_type": "code",
   "execution_count": 27,
   "metadata": {},
   "outputs": [
    {
     "name": "stderr",
     "output_type": "stream",
     "text": [
      "C:\\Users\\asim\\Anaconda3\\lib\\site-packages\\seaborn\\_decorators.py:36: FutureWarning: Pass the following variable as a keyword arg: x. From version 0.12, the only valid positional argument will be `data`, and passing other arguments without an explicit keyword will result in an error or misinterpretation.\n",
      "  warnings.warn(\n"
     ]
    },
    {
     "data": {
      "text/plain": [
       "<AxesSubplot:xlabel='Total_Sales'>"
      ]
     },
     "execution_count": 27,
     "metadata": {},
     "output_type": "execute_result"
    },
    {
     "data": {
      "image/png": "[encoded data removed]",
      "text/plain": [
       "<Figure size 432x288 with 1 Axes>"
      ]
     },
     "metadata": {
      "needs_background": "light"
     },
     "output_type": "display_data"
    }
   ],
   "source": [
    "sns.boxplot(df_sales1['Total_Sales'])"
   ]
  },
  {
   "cell_type": "code",
   "execution_count": 23,
   "metadata": {},
   "outputs": [
    {
     "data": {
      "image/png": "[encoded data removed]",
      "text/plain": [
       "<Figure size 1260x360 with 1 Axes>"
      ]
     },
     "metadata": {
      "needs_background": "light"
     },
     "output_type": "display_data"
    }
   ],
   "source": [
    "sns.displot(data=df_sales1, x=\"Total_Sales\", kde=True, bins = 100,color = \"red\", facecolor = \"#3F7F7F\",height = 5, aspect = 3.5);"
   ]
  },
  {
   "cell_type": "code",
   "execution_count": 57,
   "metadata": {},
   "outputs": [
    {
     "name": "stdout",
     "output_type": "stream",
     "text": [
      "[0.39378188 0.39378188 0.39378188 ... 0.65626152 0.65626152 0.65626152]\n"
     ]
    }
   ],
   "source": [
    "from scipy import stats\n",
    "import numpy as np\n",
    " \n",
    "z = np.abs(stats.zscore(df_sales1['Total_Sales']))\n",
    "print(z)"
   ]
  },
  {
   "cell_type": "code",
   "execution_count": 58,
   "metadata": {},
   "outputs": [
    {
     "name": "stdout",
     "output_type": "stream",
     "text": [
      "(array([    1620,     1621,     1622, ..., 18836142, 18836143, 18836144],\n",
      "      dtype=int64),)\n"
     ]
    }
   ],
   "source": [
    "threshold = 3\n",
    " \n",
    "# Position of the outlier\n",
    "print(np.where(z > 3))"
   ]
  },
  {
   "cell_type": "code",
   "execution_count": 61,
   "metadata": {},
   "outputs": [
    {
     "data": {
      "text/plain": [
       "18126.22"
      ]
     },
     "execution_count": 61,
     "metadata": {},
     "output_type": "execute_result"
    }
   ],
   "source": [
    "Q1 = np.percentile(df_sales1['Total_Sales'], 25,\n",
    "                   interpolation = 'midpoint')\n",
    " \n",
    "Q3 = np.percentile(df_sales1['Total_Sales'], 75,\n",
    "                   interpolation = 'midpoint')\n",
    "IQR = Q3 - Q1\n",
    "IQR"
   ]
  },
  {
   "cell_type": "code",
   "execution_count": 64,
   "metadata": {},
   "outputs": [
    {
     "name": "stdout",
     "output_type": "stream",
     "text": [
      "Upper bound: 0           False\n",
      "1           False\n",
      "2           False\n",
      "3           False\n",
      "4           False\n",
      "            ...  \n",
      "18970645    False\n",
      "18970646    False\n",
      "18970647    False\n",
      "18970648    False\n",
      "18970649    False\n",
      "Name: Total_Sales, Length: 18970650, dtype: bool\n",
      "(array([      45,       46,       47, ..., 18970557, 18970558, 18970559],\n",
      "      dtype=int64),)\n",
      "Lower bound: 0           False\n",
      "1           False\n",
      "2           False\n",
      "3           False\n",
      "4           False\n",
      "            ...  \n",
      "18970645    False\n",
      "18970646    False\n",
      "18970647    False\n",
      "18970648    False\n",
      "18970649    False\n",
      "Name: Total_Sales, Length: 18970650, dtype: bool\n",
      "(array([], dtype=int64),)\n"
     ]
    }
   ],
   "source": [
    "# Above Upper bound\n",
    "upper = df_sales1['Total_Sales'] >= (Q3+1.5*IQR)\n",
    " \n",
    "print(\"Upper bound:\",upper)\n",
    "print(np.where(upper))\n",
    " \n",
    "# Below Lower bound\n",
    "lower = df_sales1['Total_Sales'] <= (Q1-1.5*IQR)\n",
    "print(\"Lower bound:\", lower)\n",
    "print(np.where(lower))"
   ]
  },
  {
   "cell_type": "code",
   "execution_count": 23,
   "metadata": {},
   "outputs": [
    {
     "name": "stdout",
     "output_type": "stream",
     "text": [
      "Old Shape:  (18970650, 22)\n",
      "New Shape:  (17372205, 22)\n"
     ]
    }
   ],
   "source": [
    "#''' Detection '''\n",
    "# IQR\n",
    "Q1 = np.percentile(df_sales1['Total_Sales'], 25,\n",
    "                   interpolation = 'midpoint')\n",
    " \n",
    "Q3 = np.percentile(df_sales1['Total_Sales'], 75,\n",
    "                   interpolation = 'midpoint')\n",
    "IQR = Q3 - Q1\n",
    " \n",
    "print(\"Old Shape: \", df_sales1.shape)\n",
    " \n",
    "# Upper bound\n",
    "upper = np.where(df_sales1['Total_Sales'] >= (Q3+1.5*IQR))\n",
    "# Lower bound\n",
    "lower = np.where(df_sales1['Total_Sales'] <= (Q1-1.5*IQR))\n",
    " \n",
    "#''' Removing the Outliers '''\n",
    "df_sales1.drop(upper[0], inplace = True)\n",
    "df_sales1.drop(lower[0], inplace = True)\n",
    " \n",
    "print(\"New Shape: \", df_sales1.shape)"
   ]
  },
  {
   "cell_type": "code",
   "execution_count": 24,
   "metadata": {},
   "outputs": [
    {
     "data": {
      "image/png": "[encoded data removed]",
      "text/plain": [
       "<Figure size 432x288 with 1 Axes>"
      ]
     },
     "metadata": {
      "needs_background": "light"
     },
     "output_type": "display_data"
    }
   ],
   "source": [
    "plt.boxplot(df_sales1['Total_Sales'])\n",
    "plt.show()"
   ]
  },
  {
   "cell_type": "code",
   "execution_count": 25,
   "metadata": {},
   "outputs": [
    {
     "data": {
      "text/html": [
       "<div>\n",
       "<style scoped>\n",
       "    .dataframe tbody tr th:only-of-type {\n",
       "        vertical-align: middle;\n",
       "    }\n",
       "\n",
       "    .dataframe tbody tr th {\n",
       "        vertical-align: top;\n",
       "    }\n",
       "\n",
       "    .dataframe thead th {\n",
       "        text-align: right;\n",
       "    }\n",
       "</style>\n",
       "<table border=\"1\" class=\"dataframe\">\n",
       "  <thead>\n",
       "    <tr style=\"text-align: right;\">\n",
       "      <th></th>\n",
       "      <th>Store_x</th>\n",
       "      <th>Dept</th>\n",
       "      <th>Total_Sales</th>\n",
       "      <th>Temperature</th>\n",
       "      <th>Fuel_Price</th>\n",
       "      <th>MarkDown1</th>\n",
       "      <th>MarkDown2</th>\n",
       "      <th>MarkDown3</th>\n",
       "      <th>MarkDown4</th>\n",
       "      <th>MarkDown5</th>\n",
       "      <th>...</th>\n",
       "      <th>Unemployment_Rate</th>\n",
       "      <th>Holiday</th>\n",
       "      <th>MONTH</th>\n",
       "      <th>day</th>\n",
       "      <th>week</th>\n",
       "      <th>Type</th>\n",
       "      <th>Address</th>\n",
       "      <th>Area_Code</th>\n",
       "      <th>Location</th>\n",
       "      <th>Size</th>\n",
       "    </tr>\n",
       "    <tr>\n",
       "      <th>Date</th>\n",
       "      <th></th>\n",
       "      <th></th>\n",
       "      <th></th>\n",
       "      <th></th>\n",
       "      <th></th>\n",
       "      <th></th>\n",
       "      <th></th>\n",
       "      <th></th>\n",
       "      <th></th>\n",
       "      <th></th>\n",
       "      <th></th>\n",
       "      <th></th>\n",
       "      <th></th>\n",
       "      <th></th>\n",
       "      <th></th>\n",
       "      <th></th>\n",
       "      <th></th>\n",
       "      <th></th>\n",
       "      <th></th>\n",
       "      <th></th>\n",
       "      <th></th>\n",
       "    </tr>\n",
       "  </thead>\n",
       "  <tbody>\n",
       "    <tr>\n",
       "      <th>2017-02-05</th>\n",
       "      <td>1</td>\n",
       "      <td>1</td>\n",
       "      <td>24924.5</td>\n",
       "      <td>42.31</td>\n",
       "      <td>2.572</td>\n",
       "      <td>0.0</td>\n",
       "      <td>0.0</td>\n",
       "      <td>0.0</td>\n",
       "      <td>0.0</td>\n",
       "      <td>0.0</td>\n",
       "      <td>...</td>\n",
       "      <td>8.106</td>\n",
       "      <td>False</td>\n",
       "      <td>2</td>\n",
       "      <td>5</td>\n",
       "      <td>5</td>\n",
       "      <td>E-Commerce Fulfillment</td>\n",
       "      <td>1893 W Malvern Ave, Fullerton, California</td>\n",
       "      <td>92835</td>\n",
       "      <td>Applegate Ranch Shopping Cente</td>\n",
       "      <td>151315</td>\n",
       "    </tr>\n",
       "    <tr>\n",
       "      <th>2017-02-05</th>\n",
       "      <td>1</td>\n",
       "      <td>1</td>\n",
       "      <td>24924.5</td>\n",
       "      <td>40.19</td>\n",
       "      <td>2.572</td>\n",
       "      <td>0.0</td>\n",
       "      <td>0.0</td>\n",
       "      <td>0.0</td>\n",
       "      <td>0.0</td>\n",
       "      <td>0.0</td>\n",
       "      <td>...</td>\n",
       "      <td>8.324</td>\n",
       "      <td>False</td>\n",
       "      <td>2</td>\n",
       "      <td>5</td>\n",
       "      <td>5</td>\n",
       "      <td>E-Commerce Fulfillment</td>\n",
       "      <td>1893 W Malvern Ave, Fullerton, California</td>\n",
       "      <td>92835</td>\n",
       "      <td>Applegate Ranch Shopping Cente</td>\n",
       "      <td>151315</td>\n",
       "    </tr>\n",
       "    <tr>\n",
       "      <th>2017-02-05</th>\n",
       "      <td>1</td>\n",
       "      <td>1</td>\n",
       "      <td>24924.5</td>\n",
       "      <td>45.71</td>\n",
       "      <td>2.572</td>\n",
       "      <td>0.0</td>\n",
       "      <td>0.0</td>\n",
       "      <td>0.0</td>\n",
       "      <td>0.0</td>\n",
       "      <td>0.0</td>\n",
       "      <td>...</td>\n",
       "      <td>7.368</td>\n",
       "      <td>False</td>\n",
       "      <td>2</td>\n",
       "      <td>5</td>\n",
       "      <td>5</td>\n",
       "      <td>E-Commerce Fulfillment</td>\n",
       "      <td>1893 W Malvern Ave, Fullerton, California</td>\n",
       "      <td>92835</td>\n",
       "      <td>Applegate Ranch Shopping Cente</td>\n",
       "      <td>151315</td>\n",
       "    </tr>\n",
       "    <tr>\n",
       "      <th>2017-02-05</th>\n",
       "      <td>1</td>\n",
       "      <td>1</td>\n",
       "      <td>24924.5</td>\n",
       "      <td>43.76</td>\n",
       "      <td>2.598</td>\n",
       "      <td>0.0</td>\n",
       "      <td>0.0</td>\n",
       "      <td>0.0</td>\n",
       "      <td>0.0</td>\n",
       "      <td>0.0</td>\n",
       "      <td>...</td>\n",
       "      <td>8.623</td>\n",
       "      <td>False</td>\n",
       "      <td>2</td>\n",
       "      <td>5</td>\n",
       "      <td>5</td>\n",
       "      <td>E-Commerce Fulfillment</td>\n",
       "      <td>1893 W Malvern Ave, Fullerton, California</td>\n",
       "      <td>92835</td>\n",
       "      <td>Applegate Ranch Shopping Cente</td>\n",
       "      <td>151315</td>\n",
       "    </tr>\n",
       "    <tr>\n",
       "      <th>2017-02-05</th>\n",
       "      <td>1</td>\n",
       "      <td>1</td>\n",
       "      <td>24924.5</td>\n",
       "      <td>39.70</td>\n",
       "      <td>2.572</td>\n",
       "      <td>0.0</td>\n",
       "      <td>0.0</td>\n",
       "      <td>0.0</td>\n",
       "      <td>0.0</td>\n",
       "      <td>0.0</td>\n",
       "      <td>...</td>\n",
       "      <td>6.566</td>\n",
       "      <td>False</td>\n",
       "      <td>2</td>\n",
       "      <td>5</td>\n",
       "      <td>5</td>\n",
       "      <td>E-Commerce Fulfillment</td>\n",
       "      <td>1893 W Malvern Ave, Fullerton, California</td>\n",
       "      <td>92835</td>\n",
       "      <td>Applegate Ranch Shopping Cente</td>\n",
       "      <td>151315</td>\n",
       "    </tr>\n",
       "  </tbody>\n",
       "</table>\n",
       "<p>5 rows × 21 columns</p>\n",
       "</div>"
      ],
      "text/plain": [
       "            Store_x  Dept  Total_Sales  Temperature  Fuel_Price  MarkDown1  \\\n",
       "Date                                                                         \n",
       "2017-02-05        1     1      24924.5        42.31       2.572        0.0   \n",
       "2017-02-05        1     1      24924.5        40.19       2.572        0.0   \n",
       "2017-02-05        1     1      24924.5        45.71       2.572        0.0   \n",
       "2017-02-05        1     1      24924.5        43.76       2.598        0.0   \n",
       "2017-02-05        1     1      24924.5        39.70       2.572        0.0   \n",
       "\n",
       "            MarkDown2  MarkDown3  MarkDown4  MarkDown5  ...  \\\n",
       "Date                                                    ...   \n",
       "2017-02-05        0.0        0.0        0.0        0.0  ...   \n",
       "2017-02-05        0.0        0.0        0.0        0.0  ...   \n",
       "2017-02-05        0.0        0.0        0.0        0.0  ...   \n",
       "2017-02-05        0.0        0.0        0.0        0.0  ...   \n",
       "2017-02-05        0.0        0.0        0.0        0.0  ...   \n",
       "\n",
       "            Unemployment_Rate  Holiday  MONTH  day  week  \\\n",
       "Date                                                       \n",
       "2017-02-05              8.106    False      2    5     5   \n",
       "2017-02-05              8.324    False      2    5     5   \n",
       "2017-02-05              7.368    False      2    5     5   \n",
       "2017-02-05              8.623    False      2    5     5   \n",
       "2017-02-05              6.566    False      2    5     5   \n",
       "\n",
       "                              Type                                    Address  \\\n",
       "Date                                                                            \n",
       "2017-02-05  E-Commerce Fulfillment  1893 W Malvern Ave, Fullerton, California   \n",
       "2017-02-05  E-Commerce Fulfillment  1893 W Malvern Ave, Fullerton, California   \n",
       "2017-02-05  E-Commerce Fulfillment  1893 W Malvern Ave, Fullerton, California   \n",
       "2017-02-05  E-Commerce Fulfillment  1893 W Malvern Ave, Fullerton, California   \n",
       "2017-02-05  E-Commerce Fulfillment  1893 W Malvern Ave, Fullerton, California   \n",
       "\n",
       "           Area_Code                        Location    Size  \n",
       "Date                                                          \n",
       "2017-02-05     92835  Applegate Ranch Shopping Cente  151315  \n",
       "2017-02-05     92835  Applegate Ranch Shopping Cente  151315  \n",
       "2017-02-05     92835  Applegate Ranch Shopping Cente  151315  \n",
       "2017-02-05     92835  Applegate Ranch Shopping Cente  151315  \n",
       "2017-02-05     92835  Applegate Ranch Shopping Cente  151315  \n",
       "\n",
       "[5 rows x 21 columns]"
      ]
     },
     "execution_count": 25,
     "metadata": {},
     "output_type": "execute_result"
    }
   ],
   "source": [
    "df_sales1 = df_sales1.set_index(\"Date\")\n",
    "df_sales1.head()"
   ]
  },
  {
   "cell_type": "code",
   "execution_count": 26,
   "metadata": {},
   "outputs": [],
   "source": [
    "df_sum_weekly = df_sales1['Total_Sales'].resample('W').sum()"
   ]
  },
  {
   "cell_type": "code",
   "execution_count": 27,
   "metadata": {},
   "outputs": [
    {
     "data": {
      "text/plain": [
       "Date\n",
       "2017-02-05    1.251302e+09\n",
       "2017-02-12    1.337237e+09\n",
       "2017-02-19    1.315353e+09\n",
       "2017-02-26    1.214370e+09\n",
       "2017-03-05    1.249409e+09\n",
       "                  ...     \n",
       "2019-09-29    1.230129e+09\n",
       "2019-10-06    1.251727e+09\n",
       "2019-10-13    1.291931e+09\n",
       "2019-10-20    1.275956e+09\n",
       "2019-10-27    1.298986e+09\n",
       "Freq: W-SUN, Name: Total_Sales, Length: 143, dtype: float64"
      ]
     },
     "execution_count": 27,
     "metadata": {},
     "output_type": "execute_result"
    }
   ],
   "source": [
    "df_sum_weekly"
   ]
  },
  {
   "cell_type": "code",
   "execution_count": 28,
   "metadata": {},
   "outputs": [
    {
     "data": {
      "text/plain": [
       "<AxesSubplot:>"
      ]
     },
     "execution_count": 28,
     "metadata": {},
     "output_type": "execute_result"
    },
    {
     "data": {
      "image/png": "[encoded data removed]",
      "text/plain": [
       "<Figure size 1728x720 with 3 Axes>"
      ]
     },
     "metadata": {
      "needs_background": "light"
     },
     "output_type": "display_data"
    }
   ],
   "source": [
    "import missingno as msno\n",
    "msno.bar(df_sales1)"
   ]
  },
  {
   "cell_type": "code",
   "execution_count": 36,
   "metadata": {},
   "outputs": [
    {
     "data": {
      "text/html": [
       "<div>\n",
       "<style scoped>\n",
       "    .dataframe tbody tr th:only-of-type {\n",
       "        vertical-align: middle;\n",
       "    }\n",
       "\n",
       "    .dataframe tbody tr th {\n",
       "        vertical-align: top;\n",
       "    }\n",
       "\n",
       "    .dataframe thead th {\n",
       "        text-align: right;\n",
       "    }\n",
       "</style>\n",
       "<table border=\"1\" class=\"dataframe\">\n",
       "  <thead>\n",
       "    <tr style=\"text-align: right;\">\n",
       "      <th></th>\n",
       "      <th>Store_x</th>\n",
       "      <th>Dept</th>\n",
       "      <th>Total_Sales</th>\n",
       "      <th>Temperature</th>\n",
       "      <th>Fuel_Price</th>\n",
       "      <th>MarkDown1</th>\n",
       "      <th>MarkDown2</th>\n",
       "      <th>MarkDown3</th>\n",
       "      <th>MarkDown4</th>\n",
       "      <th>MarkDown5</th>\n",
       "      <th>...</th>\n",
       "      <th>Unemployment_Rate</th>\n",
       "      <th>Holiday</th>\n",
       "      <th>MONTH</th>\n",
       "      <th>day</th>\n",
       "      <th>week</th>\n",
       "      <th>Type</th>\n",
       "      <th>Address</th>\n",
       "      <th>Area_Code</th>\n",
       "      <th>Location</th>\n",
       "      <th>Size</th>\n",
       "    </tr>\n",
       "    <tr>\n",
       "      <th>Date</th>\n",
       "      <th></th>\n",
       "      <th></th>\n",
       "      <th></th>\n",
       "      <th></th>\n",
       "      <th></th>\n",
       "      <th></th>\n",
       "      <th></th>\n",
       "      <th></th>\n",
       "      <th></th>\n",
       "      <th></th>\n",
       "      <th></th>\n",
       "      <th></th>\n",
       "      <th></th>\n",
       "      <th></th>\n",
       "      <th></th>\n",
       "      <th></th>\n",
       "      <th></th>\n",
       "      <th></th>\n",
       "      <th></th>\n",
       "      <th></th>\n",
       "      <th></th>\n",
       "    </tr>\n",
       "  </thead>\n",
       "  <tbody>\n",
       "    <tr>\n",
       "      <th>2017-02-05</th>\n",
       "      <td>1</td>\n",
       "      <td>1</td>\n",
       "      <td>24924.5</td>\n",
       "      <td>42.31</td>\n",
       "      <td>2.572</td>\n",
       "      <td>0.0</td>\n",
       "      <td>0.0</td>\n",
       "      <td>0.0</td>\n",
       "      <td>0.0</td>\n",
       "      <td>0.0</td>\n",
       "      <td>...</td>\n",
       "      <td>8.106</td>\n",
       "      <td>False</td>\n",
       "      <td>2</td>\n",
       "      <td>5</td>\n",
       "      <td>5</td>\n",
       "      <td>E-Commerce Fulfillment</td>\n",
       "      <td>1893 W Malvern Ave, Fullerton, California</td>\n",
       "      <td>92835</td>\n",
       "      <td>Applegate Ranch Shopping Cente</td>\n",
       "      <td>151315</td>\n",
       "    </tr>\n",
       "    <tr>\n",
       "      <th>2017-02-05</th>\n",
       "      <td>1</td>\n",
       "      <td>1</td>\n",
       "      <td>24924.5</td>\n",
       "      <td>40.19</td>\n",
       "      <td>2.572</td>\n",
       "      <td>0.0</td>\n",
       "      <td>0.0</td>\n",
       "      <td>0.0</td>\n",
       "      <td>0.0</td>\n",
       "      <td>0.0</td>\n",
       "      <td>...</td>\n",
       "      <td>8.324</td>\n",
       "      <td>False</td>\n",
       "      <td>2</td>\n",
       "      <td>5</td>\n",
       "      <td>5</td>\n",
       "      <td>E-Commerce Fulfillment</td>\n",
       "      <td>1893 W Malvern Ave, Fullerton, California</td>\n",
       "      <td>92835</td>\n",
       "      <td>Applegate Ranch Shopping Cente</td>\n",
       "      <td>151315</td>\n",
       "    </tr>\n",
       "    <tr>\n",
       "      <th>2017-02-05</th>\n",
       "      <td>1</td>\n",
       "      <td>1</td>\n",
       "      <td>24924.5</td>\n",
       "      <td>45.71</td>\n",
       "      <td>2.572</td>\n",
       "      <td>0.0</td>\n",
       "      <td>0.0</td>\n",
       "      <td>0.0</td>\n",
       "      <td>0.0</td>\n",
       "      <td>0.0</td>\n",
       "      <td>...</td>\n",
       "      <td>7.368</td>\n",
       "      <td>False</td>\n",
       "      <td>2</td>\n",
       "      <td>5</td>\n",
       "      <td>5</td>\n",
       "      <td>E-Commerce Fulfillment</td>\n",
       "      <td>1893 W Malvern Ave, Fullerton, California</td>\n",
       "      <td>92835</td>\n",
       "      <td>Applegate Ranch Shopping Cente</td>\n",
       "      <td>151315</td>\n",
       "    </tr>\n",
       "    <tr>\n",
       "      <th>2017-02-05</th>\n",
       "      <td>1</td>\n",
       "      <td>1</td>\n",
       "      <td>24924.5</td>\n",
       "      <td>43.76</td>\n",
       "      <td>2.598</td>\n",
       "      <td>0.0</td>\n",
       "      <td>0.0</td>\n",
       "      <td>0.0</td>\n",
       "      <td>0.0</td>\n",
       "      <td>0.0</td>\n",
       "      <td>...</td>\n",
       "      <td>8.623</td>\n",
       "      <td>False</td>\n",
       "      <td>2</td>\n",
       "      <td>5</td>\n",
       "      <td>5</td>\n",
       "      <td>E-Commerce Fulfillment</td>\n",
       "      <td>1893 W Malvern Ave, Fullerton, California</td>\n",
       "      <td>92835</td>\n",
       "      <td>Applegate Ranch Shopping Cente</td>\n",
       "      <td>151315</td>\n",
       "    </tr>\n",
       "    <tr>\n",
       "      <th>2017-02-05</th>\n",
       "      <td>1</td>\n",
       "      <td>1</td>\n",
       "      <td>24924.5</td>\n",
       "      <td>39.70</td>\n",
       "      <td>2.572</td>\n",
       "      <td>0.0</td>\n",
       "      <td>0.0</td>\n",
       "      <td>0.0</td>\n",
       "      <td>0.0</td>\n",
       "      <td>0.0</td>\n",
       "      <td>...</td>\n",
       "      <td>6.566</td>\n",
       "      <td>False</td>\n",
       "      <td>2</td>\n",
       "      <td>5</td>\n",
       "      <td>5</td>\n",
       "      <td>E-Commerce Fulfillment</td>\n",
       "      <td>1893 W Malvern Ave, Fullerton, California</td>\n",
       "      <td>92835</td>\n",
       "      <td>Applegate Ranch Shopping Cente</td>\n",
       "      <td>151315</td>\n",
       "    </tr>\n",
       "  </tbody>\n",
       "</table>\n",
       "<p>5 rows × 21 columns</p>\n",
       "</div>"
      ],
      "text/plain": [
       "            Store_x  Dept  Total_Sales  Temperature  Fuel_Price  MarkDown1  \\\n",
       "Date                                                                         \n",
       "2017-02-05        1     1      24924.5        42.31       2.572        0.0   \n",
       "2017-02-05        1     1      24924.5        40.19       2.572        0.0   \n",
       "2017-02-05        1     1      24924.5        45.71       2.572        0.0   \n",
       "2017-02-05        1     1      24924.5        43.76       2.598        0.0   \n",
       "2017-02-05        1     1      24924.5        39.70       2.572        0.0   \n",
       "\n",
       "            MarkDown2  MarkDown3  MarkDown4  MarkDown5  ...  \\\n",
       "Date                                                    ...   \n",
       "2017-02-05        0.0        0.0        0.0        0.0  ...   \n",
       "2017-02-05        0.0        0.0        0.0        0.0  ...   \n",
       "2017-02-05        0.0        0.0        0.0        0.0  ...   \n",
       "2017-02-05        0.0        0.0        0.0        0.0  ...   \n",
       "2017-02-05        0.0        0.0        0.0        0.0  ...   \n",
       "\n",
       "            Unemployment_Rate  Holiday  MONTH  day  week  \\\n",
       "Date                                                       \n",
       "2017-02-05              8.106    False      2    5     5   \n",
       "2017-02-05              8.324    False      2    5     5   \n",
       "2017-02-05              7.368    False      2    5     5   \n",
       "2017-02-05              8.623    False      2    5     5   \n",
       "2017-02-05              6.566    False      2    5     5   \n",
       "\n",
       "                              Type                                    Address  \\\n",
       "Date                                                                            \n",
       "2017-02-05  E-Commerce Fulfillment  1893 W Malvern Ave, Fullerton, California   \n",
       "2017-02-05  E-Commerce Fulfillment  1893 W Malvern Ave, Fullerton, California   \n",
       "2017-02-05  E-Commerce Fulfillment  1893 W Malvern Ave, Fullerton, California   \n",
       "2017-02-05  E-Commerce Fulfillment  1893 W Malvern Ave, Fullerton, California   \n",
       "2017-02-05  E-Commerce Fulfillment  1893 W Malvern Ave, Fullerton, California   \n",
       "\n",
       "           Area_Code                        Location    Size  \n",
       "Date                                                          \n",
       "2017-02-05     92835  Applegate Ranch Shopping Cente  151315  \n",
       "2017-02-05     92835  Applegate Ranch Shopping Cente  151315  \n",
       "2017-02-05     92835  Applegate Ranch Shopping Cente  151315  \n",
       "2017-02-05     92835  Applegate Ranch Shopping Cente  151315  \n",
       "2017-02-05     92835  Applegate Ranch Shopping Cente  151315  \n",
       "\n",
       "[5 rows x 21 columns]"
      ]
     },
     "execution_count": 36,
     "metadata": {},
     "output_type": "execute_result"
    }
   ],
   "source": [
    "df_sales1.head()"
   ]
  },
  {
   "cell_type": "code",
   "execution_count": 29,
   "metadata": {},
   "outputs": [
    {
     "name": "stdout",
     "output_type": "stream",
     "text": [
      "Spearmans correlation between Total Sales and holiday feature: 0.004\n",
      "Spearmans correlation between Total Sales and month feature: 0.020\n",
      "Spearmans correlation between Total Sales and Temperature feature: 0.003\n",
      "Spearmans correlation between Total Sales and day feature: -0.000\n",
      "Spearmans correlation between Total Sales and Week feature: 0.019\n",
      "Spearmans correlation between Total Sales and Unemployment_Rate feature: 0.004\n",
      "Spearmans correlation between Total Sales and Markdown1 feature: -0.007\n",
      "Spearmans correlation between Total Sales and Markdown2 feature: -0.009\n",
      "Spearmans correlation between Total Sales and Markdown3 feature: -0.004\n",
      "Spearmans correlation between Total Sales and Markdown4 feature: -0.007\n",
      "Spearmans correlation between Total Sales and Markdown5 feature: -0.007\n"
     ]
    }
   ],
   "source": [
    "# calculate the spearmans's correlation between two variables\n",
    "from scipy.stats import spearmanr\n",
    "\n",
    "#filter columns from dataframe\n",
    "Total_sales = np.array(df_sales1[\"Total_Sales\"]) \n",
    "month= np.array(df_sales1[\"MONTH\"])\n",
    "Holiday = np.array(df_sales1['Holiday'])\n",
    "Temp = np.array(df_sales1[\"Temperature\"])\n",
    "day = np.array(df_sales1[\"day\"])\n",
    "Week = np.array(df_sales1[\"week\"])\n",
    "Unemployment_Rate = np.array(df_sales1[\"Unemployment_Rate\"])\n",
    "Mark_down1 = np.array(df_sales1[\"MarkDown1\"])\n",
    "Mark_down2 = np.array(df_sales1[\"MarkDown2\"])\n",
    "Mark_down3 = np.array(df_sales1[\"MarkDown3\"])\n",
    "Mark_down4 = np.array(df_sales1[\"MarkDown4\"])\n",
    "Mark_down5 = np.array(df_sales1[\"MarkDown5\"])\n",
    "\n",
    "# calculate spearman's correlation\n",
    "corr1, _ = spearmanr(Total_sales, Holiday)\n",
    "corr2,_ = spearmanr(Total_sales, month)\n",
    "corr3,_ = spearmanr(Total_sales, Temp)\n",
    "corr4,_ = spearmanr(Total_sales, day)\n",
    "corr5,_ = spearmanr(Total_sales, Week)  \n",
    "corr6,_ = spearmanr(Total_sales, Unemployment_Rate)                     \n",
    "corr7,_ = spearmanr(Total_sales, Mark_down1)\n",
    "corr8,_ = spearmanr(Total_sales, Mark_down2)                     \n",
    "corr9,_ = spearmanr(Total_sales, Mark_down3)\n",
    "corr10,_ = spearmanr(Total_sales, Mark_down4)                     \n",
    "corr11,_ = spearmanr(Total_sales, Mark_down5)                     \n",
    "print('Spearmans correlation between Total Sales and holiday feature: %.3f' % corr1)\n",
    "print('Spearmans correlation between Total Sales and month feature: %.3f' % corr2)\n",
    "print('Spearmans correlation between Total Sales and Temperature feature: %.3f' % corr3)\n",
    "print('Spearmans correlation between Total Sales and day feature: %.3f' % corr4)\n",
    "print('Spearmans correlation between Total Sales and Week feature: %.3f' % corr5)                     \n",
    "print('Spearmans correlation between Total Sales and Unemployment_Rate feature: %.3f' % corr6)                     \n",
    "print('Spearmans correlation between Total Sales and Markdown1 feature: %.3f' % corr7)\n",
    "print('Spearmans correlation between Total Sales and Markdown2 feature: %.3f' % corr8)\n",
    "print('Spearmans correlation between Total Sales and Markdown3 feature: %.3f' % corr9)                     \n",
    "print('Spearmans correlation between Total Sales and Markdown4 feature: %.3f' % corr10)\n",
    "print('Spearmans correlation between Total Sales and Markdown5 feature: %.3f' % corr11)                     "
   ]
  },
  {
   "cell_type": "code",
   "execution_count": null,
   "metadata": {},
   "outputs": [],
   "source": [
    "anova_df = df_sales1[['Total_Sales', 'MONTH', 'Unemployment_Rate']].dropna()\n",
    "\n",
    "relate_df = df_sales1[['Total_Sales', 'MONTH']]\n",
    "\n",
    "anova = smf.ols(formula='Total_Sales ~ C(MONTH)', data=anova_df).fit()\n",
    "\n",
    "print(anova.summary())\n",
    "\n",
    "# We may also want to check the mean and standard deviation for the groups\n",
    "mean = relate_df_sales1.groupby(\"MONTH\").mean()\n",
    "sd = relate_df_sales1.groupby(\"MONTH\").std()\n",
    "print(mean)\n",
    "print(sd)"
   ]
  },
  {
   "cell_type": "code",
   "execution_count": 31,
   "metadata": {},
   "outputs": [
    {
     "ename": "KeyboardInterrupt",
     "evalue": "",
     "output_type": "error",
     "traceback": [
      "\u001b[1;31m---------------------------------------------------------------------------\u001b[0m",
      "\u001b[1;31mKeyboardInterrupt\u001b[0m                         Traceback (most recent call last)",
      "\u001b[1;32m<ipython-input-31-5e22793c187b>\u001b[0m in \u001b[0;36m<module>\u001b[1;34m\u001b[0m\n\u001b[1;32m----> 1\u001b[1;33m \u001b[0msns\u001b[0m\u001b[1;33m.\u001b[0m\u001b[0mlineplot\u001b[0m\u001b[1;33m(\u001b[0m\u001b[0mdata\u001b[0m\u001b[1;33m=\u001b[0m\u001b[0mdf_sales1\u001b[0m\u001b[1;33m,\u001b[0m\u001b[0mx\u001b[0m\u001b[1;33m=\u001b[0m\u001b[1;34m'Total_Sales'\u001b[0m\u001b[1;33m,\u001b[0m\u001b[0my\u001b[0m\u001b[1;33m=\u001b[0m\u001b[1;34m'Date'\u001b[0m\u001b[1;33m)\u001b[0m\u001b[1;33m\u001b[0m\u001b[1;33m\u001b[0m\u001b[0m\n\u001b[0m",
      "\u001b[1;32m~\\Anaconda3\\lib\\site-packages\\seaborn\\_decorators.py\u001b[0m in \u001b[0;36minner_f\u001b[1;34m(*args, **kwargs)\u001b[0m\n\u001b[0;32m     44\u001b[0m             )\n\u001b[0;32m     45\u001b[0m         \u001b[0mkwargs\u001b[0m\u001b[1;33m.\u001b[0m\u001b[0mupdate\u001b[0m\u001b[1;33m(\u001b[0m\u001b[1;33m{\u001b[0m\u001b[0mk\u001b[0m\u001b[1;33m:\u001b[0m \u001b[0marg\u001b[0m \u001b[1;32mfor\u001b[0m \u001b[0mk\u001b[0m\u001b[1;33m,\u001b[0m \u001b[0marg\u001b[0m \u001b[1;32min\u001b[0m \u001b[0mzip\u001b[0m\u001b[1;33m(\u001b[0m\u001b[0msig\u001b[0m\u001b[1;33m.\u001b[0m\u001b[0mparameters\u001b[0m\u001b[1;33m,\u001b[0m \u001b[0margs\u001b[0m\u001b[1;33m)\u001b[0m\u001b[1;33m}\u001b[0m\u001b[1;33m)\u001b[0m\u001b[1;33m\u001b[0m\u001b[1;33m\u001b[0m\u001b[0m\n\u001b[1;32m---> 46\u001b[1;33m         \u001b[1;32mreturn\u001b[0m \u001b[0mf\u001b[0m\u001b[1;33m(\u001b[0m\u001b[1;33m**\u001b[0m\u001b[0mkwargs\u001b[0m\u001b[1;33m)\u001b[0m\u001b[1;33m\u001b[0m\u001b[1;33m\u001b[0m\u001b[0m\n\u001b[0m\u001b[0;32m     47\u001b[0m     \u001b[1;32mreturn\u001b[0m \u001b[0minner_f\u001b[0m\u001b[1;33m\u001b[0m\u001b[1;33m\u001b[0m\u001b[0m\n\u001b[0;32m     48\u001b[0m \u001b[1;33m\u001b[0m\u001b[0m\n",
      "\u001b[1;32m~\\Anaconda3\\lib\\site-packages\\seaborn\\relational.py\u001b[0m in \u001b[0;36mlineplot\u001b[1;34m(x, y, hue, size, style, data, palette, hue_order, hue_norm, sizes, size_order, size_norm, dashes, markers, style_order, units, estimator, ci, n_boot, seed, sort, err_style, err_kws, legend, ax, **kwargs)\u001b[0m\n\u001b[0;32m    708\u001b[0m     \u001b[0mp\u001b[0m\u001b[1;33m.\u001b[0m\u001b[0m_attach\u001b[0m\u001b[1;33m(\u001b[0m\u001b[0max\u001b[0m\u001b[1;33m)\u001b[0m\u001b[1;33m\u001b[0m\u001b[1;33m\u001b[0m\u001b[0m\n\u001b[0;32m    709\u001b[0m \u001b[1;33m\u001b[0m\u001b[0m\n\u001b[1;32m--> 710\u001b[1;33m     \u001b[0mp\u001b[0m\u001b[1;33m.\u001b[0m\u001b[0mplot\u001b[0m\u001b[1;33m(\u001b[0m\u001b[0max\u001b[0m\u001b[1;33m,\u001b[0m \u001b[0mkwargs\u001b[0m\u001b[1;33m)\u001b[0m\u001b[1;33m\u001b[0m\u001b[1;33m\u001b[0m\u001b[0m\n\u001b[0m\u001b[0;32m    711\u001b[0m     \u001b[1;32mreturn\u001b[0m \u001b[0max\u001b[0m\u001b[1;33m\u001b[0m\u001b[1;33m\u001b[0m\u001b[0m\n\u001b[0;32m    712\u001b[0m \u001b[1;33m\u001b[0m\u001b[0m\n",
      "\u001b[1;32m~\\Anaconda3\\lib\\site-packages\\seaborn\\relational.py\u001b[0m in \u001b[0;36mplot\u001b[1;34m(self, ax, kws)\u001b[0m\n\u001b[0;32m    469\u001b[0m         \u001b[1;31m# Loop over the semantic subsets and add to the plot\u001b[0m\u001b[1;33m\u001b[0m\u001b[1;33m\u001b[0m\u001b[1;33m\u001b[0m\u001b[0m\n\u001b[0;32m    470\u001b[0m         \u001b[0mgrouping_vars\u001b[0m \u001b[1;33m=\u001b[0m \u001b[1;34m\"hue\"\u001b[0m\u001b[1;33m,\u001b[0m \u001b[1;34m\"size\"\u001b[0m\u001b[1;33m,\u001b[0m \u001b[1;34m\"style\"\u001b[0m\u001b[1;33m\u001b[0m\u001b[1;33m\u001b[0m\u001b[0m\n\u001b[1;32m--> 471\u001b[1;33m         \u001b[1;32mfor\u001b[0m \u001b[0msub_vars\u001b[0m\u001b[1;33m,\u001b[0m \u001b[0msub_data\u001b[0m \u001b[1;32min\u001b[0m \u001b[0mself\u001b[0m\u001b[1;33m.\u001b[0m\u001b[0miter_data\u001b[0m\u001b[1;33m(\u001b[0m\u001b[0mgrouping_vars\u001b[0m\u001b[1;33m,\u001b[0m \u001b[0mfrom_comp_data\u001b[0m\u001b[1;33m=\u001b[0m\u001b[1;32mTrue\u001b[0m\u001b[1;33m)\u001b[0m\u001b[1;33m:\u001b[0m\u001b[1;33m\u001b[0m\u001b[1;33m\u001b[0m\u001b[0m\n\u001b[0m\u001b[0;32m    472\u001b[0m \u001b[1;33m\u001b[0m\u001b[0m\n\u001b[0;32m    473\u001b[0m             \u001b[1;32mif\u001b[0m \u001b[0mself\u001b[0m\u001b[1;33m.\u001b[0m\u001b[0msort\u001b[0m\u001b[1;33m:\u001b[0m\u001b[1;33m\u001b[0m\u001b[1;33m\u001b[0m\u001b[0m\n",
      "\u001b[1;32m~\\Anaconda3\\lib\\site-packages\\seaborn\\_core.py\u001b[0m in \u001b[0;36miter_data\u001b[1;34m(self, grouping_vars, reverse, from_comp_data)\u001b[0m\n\u001b[0;32m    981\u001b[0m \u001b[1;33m\u001b[0m\u001b[0m\n\u001b[0;32m    982\u001b[0m         \u001b[1;32mif\u001b[0m \u001b[0mfrom_comp_data\u001b[0m\u001b[1;33m:\u001b[0m\u001b[1;33m\u001b[0m\u001b[1;33m\u001b[0m\u001b[0m\n\u001b[1;32m--> 983\u001b[1;33m             \u001b[0mdata\u001b[0m \u001b[1;33m=\u001b[0m \u001b[0mself\u001b[0m\u001b[1;33m.\u001b[0m\u001b[0mcomp_data\u001b[0m\u001b[1;33m\u001b[0m\u001b[1;33m\u001b[0m\u001b[0m\n\u001b[0m\u001b[0;32m    984\u001b[0m         \u001b[1;32melse\u001b[0m\u001b[1;33m:\u001b[0m\u001b[1;33m\u001b[0m\u001b[1;33m\u001b[0m\u001b[0m\n\u001b[0;32m    985\u001b[0m             \u001b[0mdata\u001b[0m \u001b[1;33m=\u001b[0m \u001b[0mself\u001b[0m\u001b[1;33m.\u001b[0m\u001b[0mplot_data\u001b[0m\u001b[1;33m\u001b[0m\u001b[1;33m\u001b[0m\u001b[0m\n",
      "\u001b[1;32m~\\Anaconda3\\lib\\site-packages\\seaborn\\_core.py\u001b[0m in \u001b[0;36mcomp_data\u001b[1;34m(self)\u001b[0m\n\u001b[0;32m   1055\u001b[0m                     \u001b[0morig\u001b[0m \u001b[1;33m=\u001b[0m \u001b[0mself\u001b[0m\u001b[1;33m.\u001b[0m\u001b[0mplot_data\u001b[0m\u001b[1;33m[\u001b[0m\u001b[0mvar\u001b[0m\u001b[1;33m]\u001b[0m\u001b[1;33m.\u001b[0m\u001b[0mdropna\u001b[0m\u001b[1;33m(\u001b[0m\u001b[1;33m)\u001b[0m\u001b[1;33m\u001b[0m\u001b[1;33m\u001b[0m\u001b[0m\n\u001b[0;32m   1056\u001b[0m                 \u001b[0mcomp_col\u001b[0m \u001b[1;33m=\u001b[0m \u001b[0mpd\u001b[0m\u001b[1;33m.\u001b[0m\u001b[0mSeries\u001b[0m\u001b[1;33m(\u001b[0m\u001b[0mindex\u001b[0m\u001b[1;33m=\u001b[0m\u001b[0morig\u001b[0m\u001b[1;33m.\u001b[0m\u001b[0mindex\u001b[0m\u001b[1;33m,\u001b[0m \u001b[0mdtype\u001b[0m\u001b[1;33m=\u001b[0m\u001b[0mfloat\u001b[0m\u001b[1;33m,\u001b[0m \u001b[0mname\u001b[0m\u001b[1;33m=\u001b[0m\u001b[0mvar\u001b[0m\u001b[1;33m)\u001b[0m\u001b[1;33m\u001b[0m\u001b[1;33m\u001b[0m\u001b[0m\n\u001b[1;32m-> 1057\u001b[1;33m                 \u001b[0mcomp_col\u001b[0m\u001b[1;33m.\u001b[0m\u001b[0mloc\u001b[0m\u001b[1;33m[\u001b[0m\u001b[0morig\u001b[0m\u001b[1;33m.\u001b[0m\u001b[0mindex\u001b[0m\u001b[1;33m]\u001b[0m \u001b[1;33m=\u001b[0m \u001b[0mpd\u001b[0m\u001b[1;33m.\u001b[0m\u001b[0mto_numeric\u001b[0m\u001b[1;33m(\u001b[0m\u001b[0maxis\u001b[0m\u001b[1;33m.\u001b[0m\u001b[0mconvert_units\u001b[0m\u001b[1;33m(\u001b[0m\u001b[0morig\u001b[0m\u001b[1;33m)\u001b[0m\u001b[1;33m)\u001b[0m\u001b[1;33m\u001b[0m\u001b[1;33m\u001b[0m\u001b[0m\n\u001b[0m\u001b[0;32m   1058\u001b[0m \u001b[1;33m\u001b[0m\u001b[0m\n\u001b[0;32m   1059\u001b[0m                 \u001b[1;32mif\u001b[0m \u001b[0maxis\u001b[0m\u001b[1;33m.\u001b[0m\u001b[0mget_scale\u001b[0m\u001b[1;33m(\u001b[0m\u001b[1;33m)\u001b[0m \u001b[1;33m==\u001b[0m \u001b[1;34m\"log\"\u001b[0m\u001b[1;33m:\u001b[0m\u001b[1;33m\u001b[0m\u001b[1;33m\u001b[0m\u001b[0m\n",
      "\u001b[1;32m~\\Anaconda3\\lib\\site-packages\\pandas\\core\\indexing.py\u001b[0m in \u001b[0;36m__setitem__\u001b[1;34m(self, key, value)\u001b[0m\n\u001b[0;32m    717\u001b[0m         \u001b[1;32melse\u001b[0m\u001b[1;33m:\u001b[0m\u001b[1;33m\u001b[0m\u001b[1;33m\u001b[0m\u001b[0m\n\u001b[0;32m    718\u001b[0m             \u001b[0mkey\u001b[0m \u001b[1;33m=\u001b[0m \u001b[0mcom\u001b[0m\u001b[1;33m.\u001b[0m\u001b[0mapply_if_callable\u001b[0m\u001b[1;33m(\u001b[0m\u001b[0mkey\u001b[0m\u001b[1;33m,\u001b[0m \u001b[0mself\u001b[0m\u001b[1;33m.\u001b[0m\u001b[0mobj\u001b[0m\u001b[1;33m)\u001b[0m\u001b[1;33m\u001b[0m\u001b[1;33m\u001b[0m\u001b[0m\n\u001b[1;32m--> 719\u001b[1;33m         \u001b[0mindexer\u001b[0m \u001b[1;33m=\u001b[0m \u001b[0mself\u001b[0m\u001b[1;33m.\u001b[0m\u001b[0m_get_setitem_indexer\u001b[0m\u001b[1;33m(\u001b[0m\u001b[0mkey\u001b[0m\u001b[1;33m)\u001b[0m\u001b[1;33m\u001b[0m\u001b[1;33m\u001b[0m\u001b[0m\n\u001b[0m\u001b[0;32m    720\u001b[0m         \u001b[0mself\u001b[0m\u001b[1;33m.\u001b[0m\u001b[0m_has_valid_setitem_indexer\u001b[0m\u001b[1;33m(\u001b[0m\u001b[0mkey\u001b[0m\u001b[1;33m)\u001b[0m\u001b[1;33m\u001b[0m\u001b[1;33m\u001b[0m\u001b[0m\n\u001b[0;32m    721\u001b[0m \u001b[1;33m\u001b[0m\u001b[0m\n",
      "\u001b[1;32m~\\Anaconda3\\lib\\site-packages\\pandas\\core\\indexing.py\u001b[0m in \u001b[0;36m_get_setitem_indexer\u001b[1;34m(self, key)\u001b[0m\n\u001b[0;32m    664\u001b[0m \u001b[1;33m\u001b[0m\u001b[0m\n\u001b[0;32m    665\u001b[0m         \u001b[1;32mtry\u001b[0m\u001b[1;33m:\u001b[0m\u001b[1;33m\u001b[0m\u001b[1;33m\u001b[0m\u001b[0m\n\u001b[1;32m--> 666\u001b[1;33m             \u001b[1;32mreturn\u001b[0m \u001b[0mself\u001b[0m\u001b[1;33m.\u001b[0m\u001b[0m_convert_to_indexer\u001b[0m\u001b[1;33m(\u001b[0m\u001b[0mkey\u001b[0m\u001b[1;33m,\u001b[0m \u001b[0maxis\u001b[0m\u001b[1;33m=\u001b[0m\u001b[1;36m0\u001b[0m\u001b[1;33m,\u001b[0m \u001b[0mis_setter\u001b[0m\u001b[1;33m=\u001b[0m\u001b[1;32mTrue\u001b[0m\u001b[1;33m)\u001b[0m\u001b[1;33m\u001b[0m\u001b[1;33m\u001b[0m\u001b[0m\n\u001b[0m\u001b[0;32m    667\u001b[0m         \u001b[1;32mexcept\u001b[0m \u001b[0mTypeError\u001b[0m \u001b[1;32mas\u001b[0m \u001b[0me\u001b[0m\u001b[1;33m:\u001b[0m\u001b[1;33m\u001b[0m\u001b[1;33m\u001b[0m\u001b[0m\n\u001b[0;32m    668\u001b[0m \u001b[1;33m\u001b[0m\u001b[0m\n",
      "\u001b[1;32m~\\Anaconda3\\lib\\site-packages\\pandas\\core\\indexing.py\u001b[0m in \u001b[0;36m_convert_to_indexer\u001b[1;34m(self, key, axis, is_setter)\u001b[0m\n\u001b[0;32m   1255\u001b[0m                 \u001b[1;32mreturn\u001b[0m \u001b[0minds\u001b[0m\u001b[1;33m\u001b[0m\u001b[1;33m\u001b[0m\u001b[0m\n\u001b[0;32m   1256\u001b[0m             \u001b[1;32melse\u001b[0m\u001b[1;33m:\u001b[0m\u001b[1;33m\u001b[0m\u001b[1;33m\u001b[0m\u001b[0m\n\u001b[1;32m-> 1257\u001b[1;33m                 \u001b[1;32mreturn\u001b[0m \u001b[0mself\u001b[0m\u001b[1;33m.\u001b[0m\u001b[0m_get_listlike_indexer\u001b[0m\u001b[1;33m(\u001b[0m\u001b[0mkey\u001b[0m\u001b[1;33m,\u001b[0m \u001b[0maxis\u001b[0m\u001b[1;33m)\u001b[0m\u001b[1;33m[\u001b[0m\u001b[1;36m1\u001b[0m\u001b[1;33m]\u001b[0m\u001b[1;33m\u001b[0m\u001b[1;33m\u001b[0m\u001b[0m\n\u001b[0m\u001b[0;32m   1258\u001b[0m         \u001b[1;32melse\u001b[0m\u001b[1;33m:\u001b[0m\u001b[1;33m\u001b[0m\u001b[1;33m\u001b[0m\u001b[0m\n\u001b[0;32m   1259\u001b[0m             \u001b[1;32mtry\u001b[0m\u001b[1;33m:\u001b[0m\u001b[1;33m\u001b[0m\u001b[1;33m\u001b[0m\u001b[0m\n",
      "\u001b[1;32m~\\Anaconda3\\lib\\site-packages\\pandas\\core\\indexing.py\u001b[0m in \u001b[0;36m_get_listlike_indexer\u001b[1;34m(self, key, axis)\u001b[0m\n\u001b[0;32m   1310\u001b[0m             \u001b[0mkeyarr\u001b[0m \u001b[1;33m=\u001b[0m \u001b[0max\u001b[0m\u001b[1;33m.\u001b[0m\u001b[0mreindex\u001b[0m\u001b[1;33m(\u001b[0m\u001b[0mkeyarr\u001b[0m\u001b[1;33m)\u001b[0m\u001b[1;33m[\u001b[0m\u001b[1;36m0\u001b[0m\u001b[1;33m]\u001b[0m\u001b[1;33m\u001b[0m\u001b[1;33m\u001b[0m\u001b[0m\n\u001b[0;32m   1311\u001b[0m         \u001b[1;32melse\u001b[0m\u001b[1;33m:\u001b[0m\u001b[1;33m\u001b[0m\u001b[1;33m\u001b[0m\u001b[0m\n\u001b[1;32m-> 1312\u001b[1;33m             \u001b[0mkeyarr\u001b[0m\u001b[1;33m,\u001b[0m \u001b[0mindexer\u001b[0m\u001b[1;33m,\u001b[0m \u001b[0mnew_indexer\u001b[0m \u001b[1;33m=\u001b[0m \u001b[0max\u001b[0m\u001b[1;33m.\u001b[0m\u001b[0m_reindex_non_unique\u001b[0m\u001b[1;33m(\u001b[0m\u001b[0mkeyarr\u001b[0m\u001b[1;33m)\u001b[0m\u001b[1;33m\u001b[0m\u001b[1;33m\u001b[0m\u001b[0m\n\u001b[0m\u001b[0;32m   1313\u001b[0m \u001b[1;33m\u001b[0m\u001b[0m\n\u001b[0;32m   1314\u001b[0m         \u001b[0mself\u001b[0m\u001b[1;33m.\u001b[0m\u001b[0m_validate_read_indexer\u001b[0m\u001b[1;33m(\u001b[0m\u001b[0mkeyarr\u001b[0m\u001b[1;33m,\u001b[0m \u001b[0mindexer\u001b[0m\u001b[1;33m,\u001b[0m \u001b[0maxis\u001b[0m\u001b[1;33m)\u001b[0m\u001b[1;33m\u001b[0m\u001b[1;33m\u001b[0m\u001b[0m\n",
      "\u001b[1;32m~\\Anaconda3\\lib\\site-packages\\pandas\\core\\indexes\\base.py\u001b[0m in \u001b[0;36m_reindex_non_unique\u001b[1;34m(self, target)\u001b[0m\n\u001b[0;32m   3865\u001b[0m             \u001b[1;32mreturn\u001b[0m \u001b[0mself\u001b[0m\u001b[1;33m[\u001b[0m\u001b[1;33m:\u001b[0m\u001b[1;36m0\u001b[0m\u001b[1;33m]\u001b[0m\u001b[1;33m,\u001b[0m \u001b[0mnp\u001b[0m\u001b[1;33m.\u001b[0m\u001b[0marray\u001b[0m\u001b[1;33m(\u001b[0m\u001b[1;33m[\u001b[0m\u001b[1;33m]\u001b[0m\u001b[1;33m,\u001b[0m \u001b[0mdtype\u001b[0m\u001b[1;33m=\u001b[0m\u001b[0mnp\u001b[0m\u001b[1;33m.\u001b[0m\u001b[0mintp\u001b[0m\u001b[1;33m)\u001b[0m\u001b[1;33m,\u001b[0m \u001b[1;32mNone\u001b[0m\u001b[1;33m\u001b[0m\u001b[1;33m\u001b[0m\u001b[0m\n\u001b[0;32m   3866\u001b[0m \u001b[1;33m\u001b[0m\u001b[0m\n\u001b[1;32m-> 3867\u001b[1;33m         \u001b[0mindexer\u001b[0m\u001b[1;33m,\u001b[0m \u001b[0mmissing\u001b[0m \u001b[1;33m=\u001b[0m \u001b[0mself\u001b[0m\u001b[1;33m.\u001b[0m\u001b[0mget_indexer_non_unique\u001b[0m\u001b[1;33m(\u001b[0m\u001b[0mtarget\u001b[0m\u001b[1;33m)\u001b[0m\u001b[1;33m\u001b[0m\u001b[1;33m\u001b[0m\u001b[0m\n\u001b[0m\u001b[0;32m   3868\u001b[0m         \u001b[0mcheck\u001b[0m \u001b[1;33m=\u001b[0m \u001b[0mindexer\u001b[0m \u001b[1;33m!=\u001b[0m \u001b[1;33m-\u001b[0m\u001b[1;36m1\u001b[0m\u001b[1;33m\u001b[0m\u001b[1;33m\u001b[0m\u001b[0m\n\u001b[0;32m   3869\u001b[0m         \u001b[0mnew_labels\u001b[0m \u001b[1;33m=\u001b[0m \u001b[0mself\u001b[0m\u001b[1;33m.\u001b[0m\u001b[0mtake\u001b[0m\u001b[1;33m(\u001b[0m\u001b[0mindexer\u001b[0m\u001b[1;33m[\u001b[0m\u001b[0mcheck\u001b[0m\u001b[1;33m]\u001b[0m\u001b[1;33m)\u001b[0m\u001b[1;33m\u001b[0m\u001b[1;33m\u001b[0m\u001b[0m\n",
      "\u001b[1;32m~\\Anaconda3\\lib\\site-packages\\pandas\\core\\indexes\\base.py\u001b[0m in \u001b[0;36mget_indexer_non_unique\u001b[1;34m(self, target)\u001b[0m\n\u001b[0;32m   5256\u001b[0m         \u001b[0mtgt_values\u001b[0m \u001b[1;33m=\u001b[0m \u001b[0mtarget\u001b[0m\u001b[1;33m.\u001b[0m\u001b[0m_get_engine_target\u001b[0m\u001b[1;33m(\u001b[0m\u001b[1;33m)\u001b[0m\u001b[1;33m\u001b[0m\u001b[1;33m\u001b[0m\u001b[0m\n\u001b[0;32m   5257\u001b[0m \u001b[1;33m\u001b[0m\u001b[0m\n\u001b[1;32m-> 5258\u001b[1;33m         \u001b[0mindexer\u001b[0m\u001b[1;33m,\u001b[0m \u001b[0mmissing\u001b[0m \u001b[1;33m=\u001b[0m \u001b[0mself\u001b[0m\u001b[1;33m.\u001b[0m\u001b[0m_engine\u001b[0m\u001b[1;33m.\u001b[0m\u001b[0mget_indexer_non_unique\u001b[0m\u001b[1;33m(\u001b[0m\u001b[0mtgt_values\u001b[0m\u001b[1;33m)\u001b[0m\u001b[1;33m\u001b[0m\u001b[1;33m\u001b[0m\u001b[0m\n\u001b[0m\u001b[0;32m   5259\u001b[0m         \u001b[1;32mreturn\u001b[0m \u001b[0mensure_platform_int\u001b[0m\u001b[1;33m(\u001b[0m\u001b[0mindexer\u001b[0m\u001b[1;33m)\u001b[0m\u001b[1;33m,\u001b[0m \u001b[0mensure_platform_int\u001b[0m\u001b[1;33m(\u001b[0m\u001b[0mmissing\u001b[0m\u001b[1;33m)\u001b[0m\u001b[1;33m\u001b[0m\u001b[1;33m\u001b[0m\u001b[0m\n\u001b[0;32m   5260\u001b[0m \u001b[1;33m\u001b[0m\u001b[0m\n",
      "\u001b[1;32m~\\Anaconda3\\lib\\site-packages\\pandas\\_libs\\index.pyx\u001b[0m in \u001b[0;36mpandas._libs.index.DatetimeEngine.get_indexer_non_unique\u001b[1;34m()\u001b[0m\n",
      "\u001b[1;32m~\\Anaconda3\\lib\\site-packages\\pandas\\_libs\\index.pyx\u001b[0m in \u001b[0;36mpandas._libs.index.IndexEngine.get_indexer_non_unique\u001b[1;34m()\u001b[0m\n",
      "\u001b[1;32m<__array_function__ internals>\u001b[0m in \u001b[0;36mresize\u001b[1;34m(*args, **kwargs)\u001b[0m\n",
      "\u001b[1;32m~\\Anaconda3\\lib\\site-packages\\numpy\\core\\fromnumeric.py\u001b[0m in \u001b[0;36mresize\u001b[1;34m(a, new_shape)\u001b[0m\n\u001b[0;32m   1415\u001b[0m         \u001b[0mextra\u001b[0m \u001b[1;33m=\u001b[0m \u001b[0mNa\u001b[0m \u001b[1;33m-\u001b[0m \u001b[0mextra\u001b[0m\u001b[1;33m\u001b[0m\u001b[1;33m\u001b[0m\u001b[0m\n\u001b[0;32m   1416\u001b[0m \u001b[1;33m\u001b[0m\u001b[0m\n\u001b[1;32m-> 1417\u001b[1;33m     \u001b[0ma\u001b[0m \u001b[1;33m=\u001b[0m \u001b[0mconcatenate\u001b[0m\u001b[1;33m(\u001b[0m\u001b[1;33m(\u001b[0m\u001b[0ma\u001b[0m\u001b[1;33m,\u001b[0m\u001b[1;33m)\u001b[0m \u001b[1;33m*\u001b[0m \u001b[0mn_copies\u001b[0m\u001b[1;33m)\u001b[0m\u001b[1;33m\u001b[0m\u001b[1;33m\u001b[0m\u001b[0m\n\u001b[0m\u001b[0;32m   1418\u001b[0m     \u001b[1;32mif\u001b[0m \u001b[0mextra\u001b[0m \u001b[1;33m>\u001b[0m \u001b[1;36m0\u001b[0m\u001b[1;33m:\u001b[0m\u001b[1;33m\u001b[0m\u001b[1;33m\u001b[0m\u001b[0m\n\u001b[0;32m   1419\u001b[0m         \u001b[0ma\u001b[0m \u001b[1;33m=\u001b[0m \u001b[0ma\u001b[0m\u001b[1;33m[\u001b[0m\u001b[1;33m:\u001b[0m\u001b[1;33m-\u001b[0m\u001b[0mextra\u001b[0m\u001b[1;33m]\u001b[0m\u001b[1;33m\u001b[0m\u001b[1;33m\u001b[0m\u001b[0m\n",
      "\u001b[1;32m<__array_function__ internals>\u001b[0m in \u001b[0;36mconcatenate\u001b[1;34m(*args, **kwargs)\u001b[0m\n",
      "\u001b[1;31mKeyboardInterrupt\u001b[0m: "
     ]
    },
    {
     "data": {
      "image/png": "[encoded data removed]",
      "text/plain": [
       "<Figure size 432x288 with 1 Axes>"
      ]
     },
     "metadata": {
      "needs_background": "light"
     },
     "output_type": "display_data"
    }
   ],
   "source": [
    "sns.lineplot(data=df_sales1,x='Total_Sales',y='Date')"
   ]
  },
  {
   "cell_type": "code",
   "execution_count": 34,
   "metadata": {},
   "outputs": [],
   "source": [
    "from scipy import stats"
   ]
  },
  {
   "cell_type": "code",
   "execution_count": 36,
   "metadata": {},
   "outputs": [],
   "source": [
    "df_anova = df_sales1[['Total_Sales','day']]\n",
    "grps = pd.unique(df_sales1.day.values)\n",
    "d_data = {grp:df_anova['Total_Sales'][df_anova.day == grp] for grp in grps}\n",
    "F, p = stats.f_oneway(d_data[7], d_data[6], d_data[5],d_data[4])"
   ]
  },
  {
   "cell_type": "code",
   "execution_count": 37,
   "metadata": {},
   "outputs": [
    {
     "name": "stdout",
     "output_type": "stream",
     "text": [
      "F =43.7175136133915,p=3.058370175712091e-28\n"
     ]
    }
   ],
   "source": [
    "print('F ={},p={}'.format(F,p))"
   ]
  },
  {
   "cell_type": "code",
   "execution_count": 39,
   "metadata": {},
   "outputs": [],
   "source": [
    "df_anova = df_sales1[['Total_Sales','day']]\n",
    "grps = pd.unique(df_sales1.day.values)\n",
    "d_data = {grp:df_anova['Total_Sales'][df_anova.day == grp] for grp in grps}\n",
    "F, p = stats.f_oneway(d_data[7], d_data[6])"
   ]
  },
  {
   "cell_type": "code",
   "execution_count": 40,
   "metadata": {},
   "outputs": [
    {
     "name": "stdout",
     "output_type": "stream",
     "text": [
      "F =118.52484667209627,p=1.335123970784854e-27\n"
     ]
    }
   ],
   "source": [
    "print('F ={},p={}'.format(F,p))"
   ]
  },
  {
   "cell_type": "code",
   "execution_count": 47,
   "metadata": {},
   "outputs": [],
   "source": [
    "df_anova = df_sales1[['Total_Sales','MONTH']]\n",
    "grps = pd.unique(df_sales1.MONTH.values)\n",
    "d_data = {grp:df_anova['Total_Sales'][df_anova.MONTH == grp] for grp in grps}\n",
    "F, p = stats.f_oneway(d_data[12], d_data[11], d_data[10],d_data[9], d_data[8],d_data[7], d_data[6],d_data[5], d_data[4],d_data[3], d_data[2],d_data[1])"
   ]
  },
  {
   "cell_type": "code",
   "execution_count": 48,
   "metadata": {},
   "outputs": [
    {
     "name": "stdout",
     "output_type": "stream",
     "text": [
      "F =2494.839611573849,p=0.0\n"
     ]
    }
   ],
   "source": [
    "print('F ={},p={}'.format(F,p))"
   ]
  },
  {
   "cell_type": "code",
   "execution_count": 50,
   "metadata": {},
   "outputs": [
    {
     "data": {
      "text/html": [
       "<div>\n",
       "<style scoped>\n",
       "    .dataframe tbody tr th:only-of-type {\n",
       "        vertical-align: middle;\n",
       "    }\n",
       "\n",
       "    .dataframe tbody tr th {\n",
       "        vertical-align: top;\n",
       "    }\n",
       "\n",
       "    .dataframe thead th {\n",
       "        text-align: right;\n",
       "    }\n",
       "</style>\n",
       "<table border=\"1\" class=\"dataframe\">\n",
       "  <thead>\n",
       "    <tr style=\"text-align: right;\">\n",
       "      <th>Total_Sales</th>\n",
       "      <th>-4988.94</th>\n",
       "      <th>-3924.00</th>\n",
       "      <th>-1750.00</th>\n",
       "      <th>-1699.00</th>\n",
       "      <th>-1321.48</th>\n",
       "      <th>-1098.00</th>\n",
       "      <th>-1008.96</th>\n",
       "      <th>-898.00</th>\n",
       "      <th>-863.00</th>\n",
       "      <th>-798.00</th>\n",
       "      <th>...</th>\n",
       "      <th>47387.32</th>\n",
       "      <th>47388.14</th>\n",
       "      <th>47388.47</th>\n",
       "      <th>47388.64</th>\n",
       "      <th>47390.13</th>\n",
       "      <th>47390.85</th>\n",
       "      <th>47390.86</th>\n",
       "      <th>47392.48</th>\n",
       "      <th>47392.66</th>\n",
       "      <th>47393.43</th>\n",
       "    </tr>\n",
       "    <tr>\n",
       "      <th>Holiday</th>\n",
       "      <th></th>\n",
       "      <th></th>\n",
       "      <th></th>\n",
       "      <th></th>\n",
       "      <th></th>\n",
       "      <th></th>\n",
       "      <th></th>\n",
       "      <th></th>\n",
       "      <th></th>\n",
       "      <th></th>\n",
       "      <th></th>\n",
       "      <th></th>\n",
       "      <th></th>\n",
       "      <th></th>\n",
       "      <th></th>\n",
       "      <th></th>\n",
       "      <th></th>\n",
       "      <th></th>\n",
       "      <th></th>\n",
       "      <th></th>\n",
       "      <th></th>\n",
       "    </tr>\n",
       "  </thead>\n",
       "  <tbody>\n",
       "    <tr>\n",
       "      <th>False</th>\n",
       "      <td>45</td>\n",
       "      <td>45</td>\n",
       "      <td>45</td>\n",
       "      <td>45</td>\n",
       "      <td>45</td>\n",
       "      <td>135</td>\n",
       "      <td>45</td>\n",
       "      <td>45</td>\n",
       "      <td>45</td>\n",
       "      <td>135</td>\n",
       "      <td>...</td>\n",
       "      <td>45</td>\n",
       "      <td>45</td>\n",
       "      <td>45</td>\n",
       "      <td>45</td>\n",
       "      <td>0</td>\n",
       "      <td>45</td>\n",
       "      <td>45</td>\n",
       "      <td>45</td>\n",
       "      <td>45</td>\n",
       "      <td>45</td>\n",
       "    </tr>\n",
       "    <tr>\n",
       "      <th>True</th>\n",
       "      <td>0</td>\n",
       "      <td>0</td>\n",
       "      <td>0</td>\n",
       "      <td>0</td>\n",
       "      <td>0</td>\n",
       "      <td>0</td>\n",
       "      <td>0</td>\n",
       "      <td>0</td>\n",
       "      <td>0</td>\n",
       "      <td>45</td>\n",
       "      <td>...</td>\n",
       "      <td>0</td>\n",
       "      <td>0</td>\n",
       "      <td>0</td>\n",
       "      <td>0</td>\n",
       "      <td>45</td>\n",
       "      <td>0</td>\n",
       "      <td>0</td>\n",
       "      <td>0</td>\n",
       "      <td>0</td>\n",
       "      <td>0</td>\n",
       "    </tr>\n",
       "  </tbody>\n",
       "</table>\n",
       "<p>2 rows × 324039 columns</p>\n",
       "</div>"
      ],
      "text/plain": [
       "Total_Sales  -4988.94   -3924.00   -1750.00   -1699.00   -1321.48   -1098.00   \\\n",
       "Holiday                                                                         \n",
       "False               45         45         45         45         45        135   \n",
       "True                 0          0          0          0          0          0   \n",
       "\n",
       "Total_Sales  -1008.96   -898.00    -863.00    -798.00    ...   47387.32  \\\n",
       "Holiday                                                  ...              \n",
       "False               45         45         45        135  ...         45   \n",
       "True                 0          0          0         45  ...          0   \n",
       "\n",
       "Total_Sales   47388.14   47388.47   47388.64   47390.13   47390.85   47390.86  \\\n",
       "Holiday                                                                         \n",
       "False               45         45         45          0         45         45   \n",
       "True                 0          0          0         45          0          0   \n",
       "\n",
       "Total_Sales   47392.48   47392.66   47393.43  \n",
       "Holiday                                       \n",
       "False               45         45         45  \n",
       "True                 0          0          0  \n",
       "\n",
       "[2 rows x 324039 columns]"
      ]
     },
     "execution_count": 50,
     "metadata": {},
     "output_type": "execute_result"
    }
   ],
   "source": [
    "dataset_table=pd.crosstab(df_sales1['Holiday'],df_sales1['Total_Sales'])\n",
    "dataset_table"
   ]
  },
  {
   "cell_type": "code",
   "execution_count": 51,
   "metadata": {},
   "outputs": [],
   "source": [
    "observed=dataset_table.values\n",
    "val2=stats.chi2_contingency(dataset_table)\n",
    "expected=val2[3]"
   ]
  },
  {
   "cell_type": "code",
   "execution_count": 52,
   "metadata": {},
   "outputs": [
    {
     "ename": "NameError",
     "evalue": "name 'ddof' is not defined",
     "output_type": "error",
     "traceback": [
      "\u001b[1;31m---------------------------------------------------------------------------\u001b[0m",
      "\u001b[1;31mNameError\u001b[0m                                 Traceback (most recent call last)",
      "\u001b[1;32m<ipython-input-52-a96736ab3ef9>\u001b[0m in \u001b[0;36m<module>\u001b[1;34m\u001b[0m\n\u001b[0;32m      2\u001b[0m \u001b[0mchi_square\u001b[0m\u001b[1;33m=\u001b[0m\u001b[0msum\u001b[0m\u001b[1;33m(\u001b[0m\u001b[1;33m[\u001b[0m\u001b[1;33m(\u001b[0m\u001b[0mo\u001b[0m\u001b[1;33m-\u001b[0m\u001b[0me\u001b[0m\u001b[1;33m)\u001b[0m\u001b[1;33m**\u001b[0m\u001b[1;36m2.\u001b[0m\u001b[1;33m/\u001b[0m\u001b[0me\u001b[0m \u001b[1;32mfor\u001b[0m \u001b[0mo\u001b[0m\u001b[1;33m,\u001b[0m\u001b[0me\u001b[0m \u001b[1;32min\u001b[0m \u001b[0mzip\u001b[0m\u001b[1;33m(\u001b[0m\u001b[0mobserved\u001b[0m\u001b[1;33m,\u001b[0m\u001b[0mexpected\u001b[0m\u001b[1;33m)\u001b[0m\u001b[1;33m]\u001b[0m\u001b[1;33m)\u001b[0m\u001b[1;33m\u001b[0m\u001b[1;33m\u001b[0m\u001b[0m\n\u001b[0;32m      3\u001b[0m \u001b[0mchi_square_statistic\u001b[0m\u001b[1;33m=\u001b[0m\u001b[0mchi_square\u001b[0m\u001b[1;33m[\u001b[0m\u001b[1;36m0\u001b[0m\u001b[1;33m]\u001b[0m\u001b[1;33m+\u001b[0m\u001b[0mchi_square\u001b[0m\u001b[1;33m[\u001b[0m\u001b[1;36m1\u001b[0m\u001b[1;33m]\u001b[0m\u001b[1;33m\u001b[0m\u001b[1;33m\u001b[0m\u001b[0m\n\u001b[1;32m----> 4\u001b[1;33m \u001b[0mp_value\u001b[0m\u001b[1;33m=\u001b[0m\u001b[1;36m1\u001b[0m\u001b[1;33m-\u001b[0m\u001b[0mchi2\u001b[0m\u001b[1;33m.\u001b[0m\u001b[0mcdf\u001b[0m\u001b[1;33m(\u001b[0m\u001b[0mx\u001b[0m\u001b[1;33m=\u001b[0m\u001b[0mchi_square_statistic\u001b[0m\u001b[1;33m,\u001b[0m\u001b[0mdf\u001b[0m\u001b[1;33m=\u001b[0m\u001b[0mddof\u001b[0m\u001b[1;33m)\u001b[0m\u001b[1;33m\u001b[0m\u001b[1;33m\u001b[0m\u001b[0m\n\u001b[0m",
      "\u001b[1;31mNameError\u001b[0m: name 'ddof' is not defined"
     ]
    }
   ],
   "source": [
    "from scipy.stats import chi2\n",
    "chi_square=sum([(o-e)**2./e for o,e in zip(observed,expected)])\n",
    "chi_square_statistic=chi_square[0]+chi_square[1]\n",
    "p_value=1-chi2.cdf(x=chi_square_statistic,df=ddof)"
   ]
  },
  {
   "cell_type": "code",
   "execution_count": null,
   "metadata": {},
   "outputs": [],
   "source": []
  }
 ],
 "metadata": {
  "kernelspec": {
   "display_name": "Python 3",
   "language": "python",
   "name": "python3"
  },
  "language_info": {
   "codemirror_mode": {
    "name": "ipython",
    "version": 3
   },
   "file_extension": ".py",
   "mimetype": "text/x-python",
   "name": "python",
   "nbconvert_exporter": "python",
   "pygments_lexer": "ipython3",
   "version": "3.8.3"
  }
 },
 "nbformat": 4,
 "nbformat_minor": 4
}
